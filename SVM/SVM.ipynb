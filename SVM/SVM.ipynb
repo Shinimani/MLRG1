{
  "cells": [
    {
      "cell_type": "code",
      "execution_count": 2,
      "metadata": {
        "collapsed": true,
        "pycharm": {
          "is_executing": false
        }
      },
      "outputs": [],
      "source": "\nimport numpy as np # linear algebra\nimport pandas as pd # data processing, CSV file I/O (e.g. pd.read_csv)\n"
    },
    {
      "cell_type": "code",
      "execution_count": 3,
      "outputs": [
        {
          "name": "stdout",
          "text": [
            "(20000, 785)\n"
          ],
          "output_type": "stream"
        }
      ],
      "source": "df \u003d pd.read_csv(\"train.csv\", header\u003dNone, delimiter \u003d \u0027,\u0027)\ntrainD \u003d np.array(df)\nprint(trainD.shape)",
      "metadata": {
        "pycharm": {
          "metadata": false,
          "name": "#%%\n",
          "is_executing": false
        }
      }
    },
    {
      "cell_type": "code",
      "execution_count": 4,
      "outputs": [
        {
          "name": "stdout",
          "text": [
            "(20000, 784)\n(20000,)\n"
          ],
          "output_type": "stream"
        }
      ],
      "source": "trainX \u003d trainD[:,:(trainD.shape[1] - 1)]\ntrainY \u003d trainD[:,(trainD.shape[1]-1)]\n\nprint(trainX.shape)\nprint(trainY.shape)",
      "metadata": {
        "pycharm": {
          "metadata": false,
          "name": "#%%\n",
          "is_executing": false
        }
      }
    },
    {
      "cell_type": "code",
      "execution_count": 7,
      "outputs": [
        {
          "name": "stdout",
          "text": [
            "[[0 0 0 ... 0 0 6]\n [0 0 0 ... 0 0 6]\n [0 0 0 ... 0 0 6]\n ...\n [0 0 0 ... 0 0 6]\n [0 0 0 ... 0 0 6]\n [0 0 0 ... 0 0 6]]\n"
          ],
          "output_type": "stream"
        }
      ],
      "source": "train0 \u003d trainD[trainD[:,-1] \u003d\u003d 0]\ntrain1 \u003d trainD[trainD[:,-1] \u003d\u003d 1]\ntrain2 \u003d trainD[trainD[:,-1] \u003d\u003d 2]\ntrain3 \u003d trainD[trainD[:,-1] \u003d\u003d 3]\ntrain4 \u003d trainD[trainD[:,-1] \u003d\u003d 4]\ntrain5 \u003d trainD[trainD[:,-1] \u003d\u003d 5]\ntrain6 \u003d trainD[trainD[:,-1] \u003d\u003d 6]\ntrain7 \u003d trainD[trainD[:,-1] \u003d\u003d 7]\ntrain8 \u003d trainD[trainD[:,-1] \u003d\u003d 8]\ntrain9 \u003d trainD[trainD[:,-1] \u003d\u003d 9]\n# print(train6[0:10,:])\n\n\n",
      "metadata": {
        "pycharm": {
          "metadata": false,
          "name": "#%%\n",
          "is_executing": false
        }
      }
    },
    {
      "cell_type": "code",
      "execution_count": 50,
      "outputs": [],
      "source": "# this class is of binary classification\nclass SVMbin():\n    def __init__(self, x, iterations\u003d100, lambda1 \u003d 1):\n        X\u003dx\n        self.iterations \u003d iterations\n        self.lambda1 \u003d lambda1\n        self.Y\u003dX[:,-1]\n        # here, Xb contains the 784 columns of X, and the final column is 1, for the bias term\n        self.Xb \u003d np.ones((X.shape[0],X.shape[1]))\n        self.Xb[:,:-1] \u003d X[:,:-1]\n        # uniq contains the 2 unique values of X[:,-1]\n        self.uniq \u003d np.unique(X[:,-1])\n        \n        # def f(x):\n        #     if x \u003d\u003d self.uniq[0]:\n        #         return 1\n        #     else: return -1\n        # \n        self.w \u003d np.zeros((1,self.Xb.shape[1]))\n        \n        \n    \n    # assuming the final column contains the labels\n    # this function will train w of dimension 1,784\n    def train(self,k):\n#       the first column becomes the bias layer of ones\n       \n        for i in range(1,self.iterations+1):\n            np.random.shuffle(self.Xb)\n            # temp has the first k rows of the data\n            # temp \u003d self.Xb[:k,:]\n            \n            # tempPlus will have all those with y\u003cw,x\u003e \u003c 1\n            tempPlusX \u003d np.empty(shape\u003d(1,self.Xb.shape[1]),dtype\u003dint)\n            tempPlusY \u003d np.empty(shape\u003d(1,1),dtype\u003dint)\n            for j in range(k):\n                y \u003d self.Y[j]\n                x \u003d self.Xb[j,:]\n                if (y*(np.dot(x,self.w.T))) \u003c1:\n                    tempPlusX \u003d np.vstack((tempPlusX,x))\n                    tempPlusY \u003d np.vstack((tempPlusY,y))\n                    \n                                  \n            \n            eta \u003d 1/(self.lambda1 * i)\n            \n            # setting wt+1\n            \n            self.w \u003d (1-eta*self.lambda1)*self.w + (eta/k)*np.sum(tempPlusY*tempPlusX)\n            \n        # return w\n    \n    #     assuming X is of dimensions (:,785)\n    def predict(self,X):\n        temp \u003d np.ones((X.shape[0],X.shape[1]))\n        temp[:,:-1] \u003d X[:,:-1]\n        \n        def helper(t):\n            td \u003d np.dot(t,self.w.T)\n            if td\u003e0: \n                return self.uniq[0]\n            else: return self.uniq[1]\n        # helpervec \u003d np.vectorize(helper())\n        \n        # y \u003d helpervec(temp)\n        # return y\n        return np.array([helper(xi) for xi in temp])\n\n        \n    # def predict(self,data):\n    #     return np.vectorize(self.predictSingle())\n    #     \n        \n            \n            \n            \n            ",
      "metadata": {
        "pycharm": {
          "metadata": false,
          "name": "#%%\n",
          "is_executing": false
        }
      }
    },
    {
      "cell_type": "code",
      "execution_count": 53,
      "outputs": [
        {
          "name": "stdout",
          "text": [
            "(49, 785)\n[2 2 2 2 2 2 2 2 2 2 2 2 2 2 2 2 2 2 2 2 2 2 2 2 2 2 2 2 2 2 2 2 2 2 2 2 2\n 2 2 2 2 2 2 2 2 2 2 2 2]\n[1 1 1 1 1 1 1 1 1 1 1 1 1 1 1 1 1 1 1 1 1 1 1 1 1 1 1 1 1 1 1 1 1 1 1 1 1\n 1 1 1 1 1 1 1 1 1 1 1 1]\n"
          ],
          "output_type": "stream"
        }
      ],
      "source": "data01 \u003d np.vstack((train1,train2))\n# data01 \u003d trainD[(trainD[:,-1] \u003d\u003d 2)||(trainD[:,-1] \u003d\u003d 1)]\n# print(data01[-1,:])\ntrial \u003d SVMbin(x\u003ddata01)\ntrial.train(k\u003d30)\n# print(data01[0:50,-1])\ntemptrail \u003d data01[-50:-1,:]\n\nprint(temptrail.shape)\nprint(temptrail[:,-1])\n\nprint(trial.predict(temptrail))",
      "metadata": {
        "pycharm": {
          "metadata": false,
          "name": "#%%\n",
          "is_executing": false
        }
      }
    },
    {
      "cell_type": "code",
      "execution_count": null,
      "outputs": [],
      "source": "arr \u003d np.arange(12).reshape((4, 3))",
      "metadata": {
        "pycharm": {
          "metadata": false,
          "name": "#%%\n"
        }
      }
    },
    {
      "cell_type": "code",
      "execution_count": 16,
      "outputs": [],
      "source": "np.random.shuffle(arr)\n",
      "metadata": {
        "pycharm": {
          "metadata": false,
          "name": "#%%\n",
          "is_executing": false
        }
      }
    },
    {
      "cell_type": "code",
      "execution_count": 17,
      "outputs": [
        {
          "name": "stdout",
          "text": [
            "[[ 6  7  8]\n [ 0  1  2]\n [ 9 10 11]\n [ 3  4  5]]\n"
          ],
          "output_type": "stream"
        }
      ],
      "source": "print(arr)",
      "metadata": {
        "pycharm": {
          "metadata": false,
          "name": "#%%\n",
          "is_executing": false
        }
      }
    },
    {
      "cell_type": "code",
      "execution_count": 19,
      "outputs": [
        {
          "name": "stdout",
          "text": [
            "[[0]\n [1]\n [2]\n [3]]\n"
          ],
          "output_type": "stream"
        }
      ],
      "source": "a2 \u003d np.arange(4).reshape(4,1)\nprint(a2)\n",
      "metadata": {
        "pycharm": {
          "metadata": false,
          "name": "#%%\n",
          "is_executing": false
        }
      }
    },
    {
      "cell_type": "code",
      "execution_count": 20,
      "outputs": [
        {
          "name": "stdout",
          "text": [
            "[[ 0  0  0]\n [ 0  1  2]\n [18 20 22]\n [ 9 12 15]]\n"
          ],
          "output_type": "stream"
        }
      ],
      "source": "print(a2*arr)",
      "metadata": {
        "pycharm": {
          "metadata": false,
          "name": "#%%\n",
          "is_executing": false
        }
      }
    },
    {
      "cell_type": "code",
      "execution_count": null,
      "outputs": [],
      "source": "\n",
      "metadata": {
        "pycharm": {
          "metadata": false,
          "name": "#%%\n"
        }
      }
    }
  ],
  "metadata": {
    "language_info": {
      "codemirror_mode": {
        "name": "ipython",
        "version": 2
      },
      "file_extension": ".py",
      "mimetype": "text/x-python",
      "name": "python",
      "nbconvert_exporter": "python",
      "pygments_lexer": "ipython2",
      "version": "2.7.6"
    },
    "kernelspec": {
      "name": "python3",
      "language": "python",
      "display_name": "Python 3"
    }
  },
  "nbformat": 4,
  "nbformat_minor": 0
}