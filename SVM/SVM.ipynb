{
  "cells": [
    {
      "cell_type": "code",
      "execution_count": 2,
      "metadata": {
        "collapsed": true,
        "pycharm": {
          "is_executing": false
        }
      },
      "outputs": [],
      "source": "\nimport numpy as np # linear algebra\nimport pandas as pd # data processing, CSV file I/O (e.g. pd.read_csv)\n"
    },
    {
      "cell_type": "code",
      "execution_count": 3,
      "outputs": [
        {
          "name": "stdout",
          "text": [
            "(20000, 785)\n"
          ],
          "output_type": "stream"
        }
      ],
      "source": "df \u003d pd.read_csv(\"train.csv\", header\u003dNone, delimiter \u003d \u0027,\u0027)\ntrainD \u003d np.array(df)\nprint(trainD.shape)",
      "metadata": {
        "pycharm": {
          "metadata": false,
          "name": "#%%\n",
          "is_executing": false
        }
      }
    },
    {
      "cell_type": "code",
      "execution_count": 4,
      "outputs": [
        {
          "name": "stdout",
          "text": [
            "(20000, 784)\n(20000,)\n"
          ],
          "output_type": "stream"
        }
      ],
      "source": "trainX \u003d trainD[:,:(trainD.shape[1] - 1)]\ntrainY \u003d trainD[:,(trainD.shape[1]-1)]\n\nprint(trainX.shape)\nprint(trainY.shape)",
      "metadata": {
        "pycharm": {
          "metadata": false,
          "name": "#%%\n",
          "is_executing": false
        }
      }
    },
    {
      "cell_type": "code",
      "execution_count": 7,
      "outputs": [
        {
          "name": "stdout",
          "text": [
            "[[0 0 0 ... 0 0 6]\n [0 0 0 ... 0 0 6]\n [0 0 0 ... 0 0 6]\n ...\n [0 0 0 ... 0 0 6]\n [0 0 0 ... 0 0 6]\n [0 0 0 ... 0 0 6]]\n"
          ],
          "output_type": "stream"
        }
      ],
      "source": "train0 \u003d trainD[trainD[:,-1] \u003d\u003d 0]\ntrain1 \u003d trainD[trainD[:,-1] \u003d\u003d 1]\ntrain2 \u003d trainD[trainD[:,-1] \u003d\u003d 2]\ntrain3 \u003d trainD[trainD[:,-1] \u003d\u003d 3]\ntrain4 \u003d trainD[trainD[:,-1] \u003d\u003d 4]\ntrain5 \u003d trainD[trainD[:,-1] \u003d\u003d 5]\ntrain6 \u003d trainD[trainD[:,-1] \u003d\u003d 6]\ntrain7 \u003d trainD[trainD[:,-1] \u003d\u003d 7]\ntrain8 \u003d trainD[trainD[:,-1] \u003d\u003d 8]\ntrain9 \u003d trainD[trainD[:,-1] \u003d\u003d 9]\n# print(train6[0:10,:])\n\n\n",
      "metadata": {
        "pycharm": {
          "metadata": false,
          "name": "#%%\n",
          "is_executing": false
        }
      }
    },
    {
      "cell_type": "code",
      "execution_count": 73,
      "outputs": [],
      "source": "# this class is of binary classification\nclass SVMbin():\n    def __init__(self, x, iterations\u003d100, lambda1 \u003d 1):\n        X\u003dx\n        self.iterations \u003d iterations\n        self.lambda1 \u003d lambda1\n        # here, Xb contains the 784 columns of X, and the final column is 1, for the bias term\n        self.Xb \u003d np.ones((X.shape[0],X.shape[1]))\n        self.Xb[:,:-1] \u003d X[:,:-1]\n        # uniq contains the 2 unique values of X[:,-1]\n        self.uniq \u003d np.unique(X[:,-1])\n                \n        def f(x):\n            if x \u003d\u003d self.uniq[0]:\n                return 1\n            else: return -1\n        \n        self.Y \u003d np.array([f(xi) for xi in X[:,-1]])\n\n        \n        # print(self.Y[-50:-1])\n        self.w \u003d np.zeros((1,self.Xb.shape[1]))\n        \n        \n    \n    # assuming the final column contains the labels\n    # this function will train w of dimension 1,785\n    def train(self,k):\n       \n        for i in range(1,self.iterations+1):\n            indices \u003d np.random.random_integers(self.Xb.shape[0]-1,size\u003d(k,1))\n            \n            # tempPlusX \u003d np.empty(shape\u003d(1,self.Xb.shape[1]),dtype\u003dint)\n            # tempPlusY \u003d np.empty(shape\u003d(1,1),dtype\u003dint)\n            # \n            sum \u003d np.zeros((1,self.Xb.shape[1]))\n            for j in indices:\n                y \u003d self.Y[j]\n                x \u003d self.Xb[j,:]\n                if (y*(np.dot(x,self.w.T))) \u003c1:\n                    sum +\u003d y*x\n                    # tempPlusX \u003d np.vstack((tempPlusX,x))\n                    # tempPlusY \u003d np.vstack((tempPlusY,y))\n            \n            eta \u003d 1/(self.lambda1 * i)\n            self.w \u003d (1-eta*self.lambda1)*self.w + (eta/k)*sum\n            \n        # return w\n    \n    #     assuming X is of dimensions (:,785)\n    def predict(self,X):\n        temp \u003d np.ones((X.shape[0],X.shape[1]))\n        temp[:,:-1] \u003d X[:,:-1]\n        \n        def helper(t):\n            td \u003d np.dot(t,self.w.T)\n            if td\u003e0: \n                return self.uniq[0]\n            else: return self.uniq[1]\n        # helpervec \u003d np.vectorize(helper())\n        \n        # y \u003d helpervec(temp)\n        # return y\n        return np.array([helper(xi) for xi in temp])",
      "metadata": {
        "pycharm": {
          "metadata": false,
          "name": "#%%\n",
          "is_executing": false
        }
      }
    },
    {
      "cell_type": "code",
      "execution_count": 75,
      "outputs": [],
      "source": "def accuracyCalc(actual,pred):\n    sum\u003d0\n    for i in range(actual.shape[0]):\n        if actual[i]\u003d\u003dpred[i]:\n            sum+\u003d1\n    return (sum/actual.shape[0])",
      "metadata": {
        "pycharm": {
          "metadata": false,
          "name": "#%%     \n",
          "is_executing": false
        }
      }
    },
    {
      "cell_type": "code",
      "execution_count": null,
      "outputs": [],
      "source": "\n            \n            ",
      "metadata": {
        "pycharm": {
          "metadata": false,
          "name": "#%%\n"
        }
      }
    },
    {
      "cell_type": "code",
      "execution_count": 76,
      "outputs": [
        {
          "name": "stdout",
          "text": [
            "(4000, 785)\n[1 1 1 ... 2 2 2]\n0.99175\nNone\n"
          ],
          "output_type": "stream"
        },
        {
          "name": "stderr",
          "text": [
            "/home/somani/anaconda3/envs/MLRG1/lib/python3.5/site-packages/ipykernel_launcher.py:31: DeprecationWarning: This function is deprecated. Please call randint(1, 3999 + 1) instead\n"
          ],
          "output_type": "stream"
        }
      ],
      "source": "# data01 \u003d np.vstack((train1,train2))\n# # data01 \u003d trainD[(trainD[:,-1] \u003d\u003d 2)||(trainD[:,-1] \u003d\u003d 1)]\n# # print(data01[-1,:])\n# trial \u003d SVMbin(x\u003ddata01)\n# trial.train(k\u003d30)\n# # print(data01[0:50,-1])\n# temptrail \u003d data01[:,:]\n# \n# print(temptrail.shape)\n# print(temptrail[:,-1])\n# \n# predictions \u003d trial.predict(temptrail)\n# actuals \u003d temptrail[:,-1]\n# \n# print(accuracyCalc(actuals,predictions))\n",
      "metadata": {
        "pycharm": {
          "metadata": false,
          "name": "#%%\n",
          "is_executing": false
        }
      }
    },
    {
      "cell_type": "code",
      "execution_count": null,
      "outputs": [],
      "source": "",
      "metadata": {
        "pycharm": {
          "metadata": false,
          "name": "#%%\n"
        }
      }
    }
  ],
  "metadata": {
    "language_info": {
      "codemirror_mode": {
        "name": "ipython",
        "version": 2
      },
      "file_extension": ".py",
      "mimetype": "text/x-python",
      "name": "python",
      "nbconvert_exporter": "python",
      "pygments_lexer": "ipython2",
      "version": "2.7.6"
    },
    "kernelspec": {
      "name": "python3",
      "language": "python",
      "display_name": "Python 3"
    }
  },
  "nbformat": 4,
  "nbformat_minor": 0
}