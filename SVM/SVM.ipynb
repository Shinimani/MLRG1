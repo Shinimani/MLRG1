{
  "cells": [
    {
      "cell_type": "code",
      "execution_count": 1,
      "metadata": {
        "collapsed": true,
        "pycharm": {
          "is_executing": false
        }
      },
      "outputs": [],
      "source": "\nimport numpy as np # linear algebra\nimport pandas as pd # data processing, CSV file I/O (e.g. pd.read_csv)\n"
    },
    {
      "cell_type": "code",
      "execution_count": 2,
      "outputs": [
        {
          "name": "stdout",
          "text": [
            "(20000, 785)\n"
          ],
          "output_type": "stream"
        }
      ],
      "source": "df \u003d pd.read_csv(\"train.csv\", header\u003dNone, delimiter \u003d \u0027,\u0027)\ntrainD \u003d np.array(df)\nprint(trainD.shape)",
      "metadata": {
        "pycharm": {
          "metadata": false,
          "name": "#%%\n",
          "is_executing": false
        }
      }
    },
    {
      "cell_type": "code",
      "execution_count": 3,
      "outputs": [
        {
          "name": "stdout",
          "text": [
            "(20000, 784)\n(20000,)\n"
          ],
          "output_type": "stream"
        }
      ],
      "source": "trainX \u003d trainD[:,:(trainD.shape[1] - 1)]\ntrainY \u003d trainD[:,(trainD.shape[1]-1)]\n\nprint(trainX.shape)\nprint(trainY.shape)\n",
      "metadata": {
        "pycharm": {
          "metadata": false,
          "name": "#%%\n",
          "is_executing": false
        }
      }
    },
    {
      "cell_type": "code",
      "execution_count": 22,
      "outputs": [],
      "source": "class SVM():\n    def __init__(self, X, iter\u003d100, lambda1 \u003d 1):\n        self.iter \u003d iter\n        self.lambda1 \u003d lambda1\n        \n        self.Xb \u003d np.ones((X.shape[0],X.shape[1]+1))\n        self.Xb[:,1:] \u003d X\n        self.uniq \u003d np.unique(self.Xb[:,-1])\n        \n        def f(x):\n            if x \u003d\u003d self.uniq[0]:\n                return 1\n            else: return -1\n        \n        #changing labels to +1 and -1\n        self.Xb[:,-1] \u003d np.array([f(xi) for xi in self.Xb[:,-1]])\n        \n        \n    \n    # assuming the final column contains the labels\n    # this function will train w of dimension 1,784\n    def train(self,k):\n#       the first column becomes the bias layer of ones\n        self.w \u003d np.zeros((1,self.Xb.shape[1]-1))\n        for i in range(self.iter):\n            np.random.shuffle(Xb)\n            # temp has the first k rows of the data\n            # temp \u003d self.Xb[:k,:]\n            \n            # tempPlus will have all those with y\u003cw,x\u003e \u003c 1\n            tempPlus \u003d np.empty(shape\u003d(1,self.Xb.shape[1]),dtype\u003dint)\n            \n            for j in range(k):\n                y \u003d self.Xb[j,-1]\n                x \u003d self.Xb[j,:-1]\n                if (y*(np.dot(x,self.w.T))) \u003c1:\n                    tempPlus \u003d np.vstack(tempPlus,x)\n                                  \n            \n            eta \u003d 1/((self.lambda1) * i)\n            \n            # setting wt+1\n            \n            self.w \u003d (1-eta*self.lambda1)*self.w + (eta/k)*np.sum(y*x)\n            \n        # return w\n    \n    #     assuming X is of dimensions (1,784)\n    def predict(self,X):\n        y \u003d np.dot(X,self.w.T)\n        if y\u003e0: \n            return self.uniq[0]\n        else: return self.uniq[1]\n        \n        \n            \n            \n            \n            ",
      "metadata": {
        "pycharm": {
          "metadata": false,
          "name": "#%%\n",
          "is_executing": false
        }
      }
    },
    {
      "cell_type": "code",
      "execution_count": 15,
      "outputs": [],
      "source": "arr \u003d np.arange(12).reshape((4, 3))",
      "metadata": {
        "pycharm": {
          "metadata": false,
          "name": "#%%\n",
          "is_executing": false
        }
      }
    },
    {
      "cell_type": "code",
      "execution_count": 16,
      "outputs": [],
      "source": "np.random.shuffle(arr)\n",
      "metadata": {
        "pycharm": {
          "metadata": false,
          "name": "#%%\n",
          "is_executing": false
        }
      }
    },
    {
      "cell_type": "code",
      "execution_count": 17,
      "outputs": [
        {
          "name": "stdout",
          "text": [
            "[[ 6  7  8]\n [ 0  1  2]\n [ 9 10 11]\n [ 3  4  5]]\n"
          ],
          "output_type": "stream"
        }
      ],
      "source": "print(arr)",
      "metadata": {
        "pycharm": {
          "metadata": false,
          "name": "#%%\n",
          "is_executing": false
        }
      }
    },
    {
      "cell_type": "code",
      "execution_count": 19,
      "outputs": [
        {
          "name": "stdout",
          "text": [
            "[[0]\n [1]\n [2]\n [3]]\n"
          ],
          "output_type": "stream"
        }
      ],
      "source": "a2 \u003d np.arange(4).reshape(4,1)\nprint(a2)\n",
      "metadata": {
        "pycharm": {
          "metadata": false,
          "name": "#%%\n",
          "is_executing": false
        }
      }
    },
    {
      "cell_type": "code",
      "execution_count": 20,
      "outputs": [
        {
          "name": "stdout",
          "text": [
            "[[ 0  0  0]\n [ 0  1  2]\n [18 20 22]\n [ 9 12 15]]\n"
          ],
          "output_type": "stream"
        }
      ],
      "source": "print(a2*arr)",
      "metadata": {
        "pycharm": {
          "metadata": false,
          "name": "#%%\n",
          "is_executing": false
        }
      }
    },
    {
      "cell_type": "code",
      "execution_count": null,
      "outputs": [],
      "source": "\n",
      "metadata": {
        "pycharm": {
          "metadata": false,
          "name": "#%%\n"
        }
      }
    }
  ],
  "metadata": {
    "language_info": {
      "codemirror_mode": {
        "name": "ipython",
        "version": 2
      },
      "file_extension": ".py",
      "mimetype": "text/x-python",
      "name": "python",
      "nbconvert_exporter": "python",
      "pygments_lexer": "ipython2",
      "version": "2.7.6"
    },
    "kernelspec": {
      "name": "python3",
      "language": "python",
      "display_name": "Python 3"
    }
  },
  "nbformat": 4,
  "nbformat_minor": 0
}