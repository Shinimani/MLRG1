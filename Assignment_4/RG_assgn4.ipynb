{
  "cells": [
    {
      "metadata": {
        "_uuid": "8f2839f25d086af736a60e9eeb907d3b93b6e0e5",
        "_cell_guid": "b1076dfc-b9ad-4769-8c92-a6c4dae69d19",
        "trusted": true,
        "pycharm": {
          "is_executing": false
        }
      },
      "cell_type": "code",
      "source": "# This Python 3 environment comes with many helpful analytics libraries installed\n# It is defined by the kaggle/python docker image: https://github.com/kaggle/docker-python\n# For example, here\u0027s several helpful packages to load in \n\nimport numpy as np # linear algebra\nimport pandas as pd # data processing, CSV file I/O (e.g. pd.read_csv)\n\n# Input data files are available in the \"../input/\" directory.\n# For example, running this (by clicking run or pressing Shift+Enter) will list all files under the input directory\n\n# Any results you write to the current directory are saved as output.",
      "execution_count": 4,
      "outputs": []
    },
    {
      "metadata": {
        "_uuid": "d629ff2d2480ee46fbb7e2d37f6b5fab8052498a",
        "_cell_guid": "79c7e3d0-c299-4dcb-8224-4455121ee9b0",
        "trusted": true,
        "pycharm": {
          "is_executing": false
        }
      },
      "cell_type": "code",
      "source": "class Node:\n\n    def __init__(self, x, y, idxs, min_leaf\u003d5):\n        self.x \u003d x \n        self.y \u003d y\n        self.idxs \u003d idxs \n        self.min_leaf \u003d min_leaf\n        self.row_count \u003d len(idxs)\n        self.col_count \u003d x.shape[1]\n        self.val \u003d np.mean(y[idxs])\n        self.score \u003d float(\u0027inf\u0027)\n        self.find_varsplit()\n        \n    def find_varsplit(self):\n        for c in range(self.col_count): self.find_better_split(c)\n        if self.is_leaf: return\n        x \u003d self.split_col\n        lhs \u003d np.nonzero(x \u003c\u003d self.split)[0]\n        rhs \u003d np.nonzero(x \u003e self.split)[0]\n        self.lhs \u003d Node(self.x, self.y, self.idxs[lhs], self.min_leaf)\n        self.rhs \u003d Node(self.x, self.y, self.idxs[rhs], self.min_leaf)\n        \n    def find_better_split(self, var_idx):\n      \n        x \u003d self.x[self.idxs, var_idx]\n\n        for r in range(self.row_count):\n            lhs \u003d x \u003c\u003d x[r]\n            rhs \u003d x \u003e x[r]\n            if rhs.sum() \u003c self.min_leaf or lhs.sum() \u003c self.min_leaf: continue\n\n            curr_score \u003d self.find_score(lhs, rhs)\n            if curr_score \u003c self.score: \n                self.var_idx \u003d var_idx\n                self.score \u003d curr_score\n                self.split \u003d x[r]\n                \n    def find_score(self, lhs, rhs):\n        y \u003d self.y[self.idxs]\n        lhs_std \u003d y[lhs].std()\n        rhs_std \u003d y[rhs].std()\n        return lhs_std * lhs.sum() + rhs_std * rhs.sum()\n                \n    @property\n    def split_col(self): return self.x[self.idxs,self.var_idx]\n                \n    @property\n    def is_leaf(self): return self.score \u003d\u003d float(\u0027inf\u0027)                \n\n    def predict(self, x):\n        return np.array([self.predict_row(xi) for xi in x])\n\n    def predict_row(self, xi):\n        if self.is_leaf: return self.val\n        node \u003d self.lhs if xi[self.var_idx] \u003c\u003d self.split else self.rhs\n        return node.predict_row(xi)\n",
      "execution_count": 38,
      "outputs": []
    },
    {
      "metadata": {
        "trusted": true,
        "pycharm": {
          "is_executing": false
        }
      },
      "cell_type": "code",
      "source": "class DecisionTreeRegressor:\n  \n  def fit(self, X, y, min_leaf \u003d 5):\n    self.dtree \u003d Node(X, y, np.array(np.arange(len(y))), min_leaf)\n    return self\n  \n  def predict(self, X):\n    return self.dtree.predict(X)",
      "execution_count": 51,
      "outputs": []
    },
    {
      "metadata": {
        "trusted": true,
        "pycharm": {
          "is_executing": false
        }
      },
      "cell_type": "code",
      "source": "trainD \u003d np.array(pd.read_csv(\"/home/somani/PycharmProjects/MLRG1/Assignment_4/train.csv\", header\u003d0, delimiter \u003d \u0027,\u0027))\nprint(trainD.shape)",
      "execution_count": 52,
      "outputs": [
        {
          "name": "stdout",
          "text": [
            "(27000, 15)\n"
          ],
          "output_type": "stream"
        }
      ]
    },
    {
      "metadata": {
        "trusted": true,
        "pycharm": {
          "is_executing": false
        }
      },
      "cell_type": "code",
      "source": "print(trainD[0][1])",
      "execution_count": 53,
      "outputs": [
        {
          "name": "stdout",
          "text": [
            " State-gov\n"
          ],
          "output_type": "stream"
        }
      ]
    },
    {
      "metadata": {
        "trusted": true,
        "pycharm": {
          "is_executing": false
        }
      },
      "cell_type": "code",
      "source": "def encodeCol(ar,col):\n    p \u003d ar[:,col]\n    i \u003d 1\n    dic \u003d {}\n    \n    for val in range(len(p)):\n        s \u003d p[val]\n        if s in dic:\n            p[val]\u003ddic[s]\n        else:\n            dic[s]\u003di\n            p[val]\u003di\n            i\u003di+1\n    \n    return p",
      "execution_count": 54,
      "outputs": []
    },
    {
      "cell_type": "code",
      "execution_count": 55,
      "outputs": [],
      "source": "trainX \u003d trainD[:,0:14]\ntrainY \u003d trainD[:,14]\n",
      "metadata": {
        "pycharm": {
          "metadata": false,
          "name": "#%%\n",
          "is_executing": false
        }
      }
    },
    {
      "cell_type": "code",
      "execution_count": 56,
      "outputs": [],
      "source": "trainX[:,1] \u003d encodeCol(trainX,1)\ntrainX[:,3] \u003d encodeCol(trainX,3)\ntrainX[:,5] \u003d encodeCol(trainX,5)\ntrainX[:,6] \u003d encodeCol(trainX,6)\ntrainX[:,7] \u003d encodeCol(trainX,7)\ntrainX[:,8] \u003d encodeCol(trainX,8)\ntrainX[:,9] \u003d encodeCol(trainX,9)\ntrainX[:,13] \u003d encodeCol(trainX,13)\n",
      "metadata": {
        "pycharm": {
          "metadata": false,
          "name": "#%%\n",
          "is_executing": false
        }
      }
    },
    {
      "cell_type": "code",
      "execution_count": 45,
      "outputs": [],
      "source": "regressor \u003d DecisionTreeRegressor().fit(trainX, trainY)\npreds \u003d regressor.predict(trainX)",
      "metadata": {
        "pycharm": {
          "metadata": false,
          "name": "#%%\n",
          "is_executing": false
        }
      }
    },
    {
      "cell_type": "code",
      "execution_count": 46,
      "outputs": [
        {
          "name": "stdout",
          "text": [
            "[0.  0.  0.  ... 0.  0.5 0. ]\n"
          ],
          "output_type": "stream"
        }
      ],
      "source": "print(preds)",
      "metadata": {
        "pycharm": {
          "metadata": false,
          "name": "#%%\n",
          "is_executing": false
        }
      }
    },
    {
      "cell_type": "code",
      "execution_count": 48,
      "outputs": [],
      "source": "delt \u003d trainY-preds\ndelt \u003d np.abs(delt)\n\nrou \u003d np.round(preds)\n\n",
      "metadata": {
        "pycharm": {
          "metadata": false,
          "name": "#%%\n",
          "is_executing": false
        }
      }
    },
    {
      "cell_type": "code",
      "execution_count": 49,
      "outputs": [
        {
          "name": "stdout",
          "text": [
            "2183.0\n"
          ],
          "output_type": "stream"
        }
      ],
      "source": "delr \u003d np.abs(trainY-rou)\nprint(np.sum(delr))",
      "metadata": {
        "pycharm": {
          "metadata": false,
          "name": "#%%\n",
          "is_executing": false
        }
      }
    },
    {
      "cell_type": "code",
      "execution_count": 50,
      "outputs": [
        {
          "name": "stdout",
          "text": [
            "91.91481481481482\n"
          ],
          "output_type": "stream"
        }
      ],
      "source": "print((27000-2183)*100/27000)",
      "metadata": {
        "pycharm": {
          "metadata": false,
          "name": "#%%\n",
          "is_executing": false
        }
      }
    },
    {
      "cell_type": "code",
      "execution_count": null,
      "outputs": [],
      "source": "\n",
      "metadata": {
        "pycharm": {
          "metadata": false,
          "name": "#%%\n"
        }
      }
    }
  ],
  "metadata": {
    "kernelspec": {
      "language": "python",
      "display_name": "Python 3",
      "name": "python3"
    },
    "language_info": {
      "pygments_lexer": "ipython3",
      "nbconvert_exporter": "python",
      "version": "3.6.4",
      "file_extension": ".py",
      "codemirror_mode": {
        "name": "ipython",
        "version": 3
      },
      "name": "python",
      "mimetype": "text/x-python"
    }
  },
  "nbformat": 4,
  "nbformat_minor": 1
}