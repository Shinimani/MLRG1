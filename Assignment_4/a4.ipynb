{
  "cells": [
    {
      "cell_type": "code",
      "execution_count": 1,
      "metadata": {
        "collapsed": true,
        "pycharm": {
          "is_executing": false
        }
      },
      "outputs": [],
      "source": "import numpy as np\nimport pandas as pd\nfrom matplotlib import pyplot as plt"
    },
    {
      "cell_type": "code",
      "execution_count": 2,
      "outputs": [],
      "source": "\n\nclass Node:\n\n    def __init__(self, x, y, idxs, min_leaf\u003d5):\n        self.x \u003d x \n        self.y \u003d y\n        self.idxs \u003d idxs \n        self.min_leaf \u003d min_leaf\n        self.row_count \u003d len(idxs)\n        self.col_count \u003d x.shape[1]\n        self.val \u003d np.mean(y[idxs])\n        self.score \u003d float(\u0027inf\u0027)\n        self.find_varsplit()\n        \n    def find_varsplit(self):\n        for c in range(self.col_count): self.find_better_split(c)\n        if self.is_leaf: return\n        x \u003d self.split_col\n        lhs \u003d np.nonzero(x \u003c\u003d self.split)[0]\n        rhs \u003d np.nonzero(x \u003e self.split)[0]\n        self.lhs \u003d Node(self.x, self.y, self.idxs[lhs], self.min_leaf)\n        self.rhs \u003d Node(self.x, self.y, self.idxs[rhs], self.min_leaf)\n        \n    def find_better_split(self, var_idx):\n      \n        x \u003d self.x.values[self.idxs, var_idx]\n\n        for r in range(self.row_count):\n            lhs \u003d x \u003c\u003d x[r]\n            rhs \u003d x \u003e x[r]\n            if rhs.sum() \u003c self.min_leaf or lhs.sum() \u003c self.min_leaf: continue\n\n            curr_score \u003d self.find_score(lhs, rhs)\n            if curr_score \u003c self.score: \n                self.var_idx \u003d var_idx\n                self.score \u003d curr_score\n                self.split \u003d x[r]\n                \n    def find_score(self, lhs, rhs):\n        y \u003d self.y[self.idxs]\n        lhs_std \u003d y[lhs].std()\n        rhs_std \u003d y[rhs].std()\n        return lhs_std * lhs.sum() + rhs_std * rhs.sum()\n                \n    @property\n    def split_col(self): return self.x.values[self.idxs,self.var_idx]\n                \n    @property\n    def is_leaf(self): return self.score \u003d\u003d float(\u0027inf\u0027)                \n\n    def predict(self, x):\n        return np.array([self.predict_row(xi) for xi in x])\n\n    def predict_row(self, xi):\n        if self.is_leaf: return self.val\n        node \u003d self.lhs if xi[self.var_idx] \u003c\u003d self.split else self.rhs\n        return node.predict_row(xi)\n    ",
      "metadata": {
        "pycharm": {
          "metadata": false,
          "name": "#%%\n",
          "is_executing": false
        }
      }
    },
    {
      "cell_type": "code",
      "execution_count": 3,
      "outputs": [],
      "source": "\nclass DecisionTreeRegressor:\n  \n  def fit(self, X, y, min_leaf \u003d 5):\n    self.dtree \u003d Node(X, y, np.array(np.arange(len(y))), min_leaf)\n    return self\n  \n  def predict(self, X):\n    return self.dtree.predict(X.values)\n",
      "metadata": {
        "pycharm": {
          "metadata": false,
          "name": "#%%\n",
          "is_executing": false
        }
      }
    },
    {
      "cell_type": "code",
      "execution_count": null,
      "outputs": [],
      "source": "\n",
      "metadata": {
        "pycharm": {
          "metadata": false,
          "name": "#%%\n"
        }
      }
    }
  ],
  "metadata": {
    "language_info": {
      "codemirror_mode": {
        "name": "ipython",
        "version": 2
      },
      "file_extension": ".py",
      "mimetype": "text/x-python",
      "name": "python",
      "nbconvert_exporter": "python",
      "pygments_lexer": "ipython2",
      "version": "2.7.6"
    },
    "kernelspec": {
      "name": "python3",
      "language": "python",
      "display_name": "Python 3"
    }
  },
  "nbformat": 4,
  "nbformat_minor": 0
}