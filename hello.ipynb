{
  "cells": [
    {
      "cell_type": "code",
      "execution_count": 6,
      "outputs": [
        {
          "name": "stdout",
          "text": [
            "Hello\n"
          ],
          "output_type": "stream"
        }
      ],
      "source": "print(\"Hello\")\n",
      "metadata": {
        "pycharm": {
          "metadata": false,
          "name": "#%%\n",
          "is_executing": false
        }
      }
    },
    {
      "cell_type": "code",
      "execution_count": 8,
      "outputs": [],
      "source": "import numpy as np\nimport pandas as pd\nfrom matplotlib import pyplot as plt\ndata \u003d pd.read_csv(\"train.csv\",header\u003dNone)\n",
      "metadata": {
        "pycharm": {
          "metadata": false,
          "name": "#%%\n",
          "is_executing": false
        }
      }
    },
    {
      "cell_type": "code",
      "execution_count": 28,
      "outputs": [
        {
          "name": "stdout",
          "text": [
            "(30000,)\n"
          ],
          "output_type": "stream"
        }
      ],
      "source": "# df \u003d pd.DataFrame(data)\n\nnumarrayxy \u003d np.array(data.values)\nxyshape \u003d numarrayxy.shape\n\nx \u003d numarrayxy[:,:(xyshape[1]-1)]\n\nxshape \u003d x.shape\n# print(xshape)\nonex \u003d np.ones((xshape[0],1))\n\ny \u003d numarrayxy[:,(xyshape[1]-1)]\nprint(y.shape)\n\nx \u003d np.hstack((x,onex))\n#added extra column to x \n# xshape \u003d x.shape\n# print(xshape)\n",
      "metadata": {
        "pycharm": {
          "metadata": false,
          "name": "#%%\n",
          "is_executing": false
        }
      }
    },
    {
      "cell_type": "code",
      "execution_count": 29,
      "outputs": [
        {
          "name": "stdout",
          "text": [
            "0.6080463224138236\n(30000,)\n"
          ],
          "output_type": "stream"
        }
      ],
      "source": "w \u003d np.linalg.pinv(x).dot(y)\nycalc \u003d x.dot(w)\ntrainerror \u003d np.sum((ycalc - y)**2)\ntrainerror \u003d trainerror/(np.sum(y**2))\n\nprint(trainerror)\n\nprint(y.shape)",
      "metadata": {
        "pycharm": {
          "metadata": false,
          "name": "#%%\n",
          "is_executing": false
        }
      }
    },
    {
      "cell_type": "code",
      "execution_count": 46,
      "outputs": [
        {
          "data": {
            "text/plain": "\u003cFigure size 432x288 with 1 Axes\u003e",
            "image/png": "[encoded data removed]"
          },
          "metadata": {
            "needs_background": "light"
          },
          "output_type": "display_data"
        }
      ],
      "source": "# plt.xlabel(\"xaxis\")\n# plt.ylabel(\"yaxis\")\n# plt.plot(x,y,\u0027r\u0027)\n# plt.plot(x,ycalc,\u0027b\u0027)\n# plt.show()\n\nlamda \u003d [0.001, 0.003, 0.01, 0.03, 0.1, 0.3, 1, 3, 10, 30, 100, 300, 1000]\nlamdaerrors \u003d np.zeros((lamda.__len__(),2))\n# lamda \u003d []\nn \u003d x.shape[0]\nn \u003d int(n/10)\n# y\u003dy.T\n\ntrain \u003d[]\ntest\u003d[]\nfor inde in range(lamda.__len__()):\n    for i in range(10):\n        train \u003d x[0:i*n]\n        trainy \u003d y[0:i*n]\n        j\u003dlamda[inde]\n        # print(trainy.shape)\n        train \u003d np.vstack((train,x[(i+1)*n:x.shape[0]]))\n        # print(y[(i+1)*n:y.shape[0]].shape)\n        trainy \u003d np.hstack((trainy,y[(i+1)*n:y.shape[0]]))\n        # print(trainy.shape)\n        test \u003d x[i*n:(i+1)*n]\n        testy \u003d y[i*n:(i+1)*n]\n        ttranst \u003d (train.T.dot(train))\n        w \u003d np.linalg.pinv(ttranst + np.identity(ttranst.shape[0])*j)\n        w \u003d w.dot(train.T.dot(trainy))\n        ycalculated \u003d train.dot(w)\n        trainerror \u003d np.sum((ycalculated - trainy)**2)\n        trainerror \u003d trainerror/(np.sum(trainy**2))\n        # print(trainerror.shape)\n        lamdaerrors[inde,0] +\u003d trainerror\n        ycalculated \u003d test.dot(w)\n        trainerror \u003d np.sum((ycalculated - testy)**2)\n        trainerror \u003d trainerror/(np.sum(testy**2))\n        lamdaerrors[inde,1] +\u003d trainerror\n        \n    lamdaerrors[inde,0]/\u003d10\n    lamdaerrors[inde,1]/\u003d10\nplt.close()\nplt.plot(lamda,lamdaerrors[:,0],\u0027r\u0027)\nplt.plot(lamda,lamdaerrors[:,1],\u0027b\u0027)\nplt.show()\n        \n        \n    # print(train.shape)\n    # print(test.shape)\n    \n    ",
      "metadata": {
        "pycharm": {
          "metadata": false,
          "name": "#%%\n",
          "is_executing": false
        }
      }
    },
    {
      "cell_type": "code",
      "execution_count": null,
      "outputs": [],
      "source": "\n#def ksplit(dataa, k\u003d10):\n    # p \u003d dataa.shape[0]\n    # p\u003d int(p/k)\n    # for i in range(10):\n    #     train \u003d x[0:i*n]\n    #     train \u003d np.vstack((train,x[(i+1)*n:x.shape[0]]))\n    #     test \u003d x[i*n:(i+1)*n]\n        \n    \n        \n    \n",
      "metadata": {
        "pycharm": {
          "metadata": false,
          "name": "#%%\n"
        }
      }
    }
  ],
  "metadata": {
    "language_info": {
      "codemirror_mode": {
        "name": "ipython",
        "version": 2
      },
      "file_extension": ".py",
      "mimetype": "text/x-python",
      "name": "python",
      "nbconvert_exporter": "python",
      "pygments_lexer": "ipython2",
      "version": "2.7.6"
    },
    "kernelspec": {
      "name": "python3",
      "language": "python",
      "display_name": "Python 3"
    },
    "stem_cell": {
      "cell_type": "raw",
      "source": "",
      "metadata": {
        "pycharm": {
          "metadata": false
        }
      }
    }
  },
  "nbformat": 4,
  "nbformat_minor": 0
}