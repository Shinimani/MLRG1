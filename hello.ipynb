{
  "cells": [
    {
      "cell_type": "code",
      "execution_count": 1,
      "metadata": {
        "collapsed": true,
        "pycharm": {
          "name": "#%%\n",
          "is_executing": false
        }
      },
      "outputs": [
        {
          "name": "stdout",
          "text": [
            "Hello\n"
          ],
          "output_type": "stream"
        }
      ],
      "source": "print(\"Hello\")\n"
    },
    {
      "cell_type": "code",
      "execution_count": 11,
      "outputs": [],
      "source": "import numpy as np\nimport pandas as pd\ndata \u003d pd.read_csv(\"train.csv\",header\u003dNone)\n\n# df \u003d pd.DataFrame(data)\n\nnumarrayxy \u003d data.values\nxyshape \u003d numarrayxy.shape\n\nx \u003d numarrayxy[:,:(xyshape[1]-1)]\n\nxshape \u003d x.shape\n\ny \u003d numarrayxy[:,xyshape[1]-1]\n\n\n\n",
      "metadata": {
        "pycharm": {
          "metadata": false,
          "name": "#%%\n",
          "is_executing": false
        }
      }
    }
  ],
  "metadata": {
    "language_info": {
      "codemirror_mode": {
        "name": "ipython",
        "version": 2
      },
      "file_extension": ".py",
      "mimetype": "text/x-python",
      "name": "python",
      "nbconvert_exporter": "python",
      "pygments_lexer": "ipython2",
      "version": "2.7.6"
    },
    "kernelspec": {
      "name": "python3",
      "language": "python",
      "display_name": "Python 3"
    }
  },
  "nbformat": 4,
  "nbformat_minor": 0
}