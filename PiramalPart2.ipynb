{
  "cells": [
    {
      "cell_type": "code",
      "execution_count": 1,
      "metadata": {
        "collapsed": true,
        "pycharm": {
          "is_executing": false
        }
      },
      "outputs": [],
      "source": "import numpy as np\nimport pandas as pd"
    },
    {
      "cell_type": "code",
      "execution_count": 4,
      "outputs": [],
      "source": "xl \u003d pd.ExcelFile(\"User_consumption.xlsx\")\nconsumArray \u003d pd.read_excel(xl,\"Consumption\").values\n",
      "metadata": {
        "pycharm": {
          "metadata": false,
          "name": "#%%\n",
          "is_executing": false
        }
      }
    },
    {
      "cell_type": "code",
      "execution_count": 7,
      "outputs": [
        {
          "name": "stdout",
          "text": [
            "2231\n"
          ],
          "output_type": "stream"
        }
      ],
      "source": "#part a\nuniq \u003d np.unique(consumArray[:,3])\nprint(uniq.shape[0])",
      "metadata": {
        "pycharm": {
          "metadata": false,
          "name": "#%%\n",
          "is_executing": false
        }
      }
    },
    {
      "cell_type": "code",
      "execution_count": 11,
      "outputs": [
        {
          "name": "stdout",
          "text": [
            "1760\n"
          ],
          "output_type": "stream"
        }
      ],
      "source": "# part b\npart2 \u003d np.unique((consumArray[:,3][consumArray[:,2]\u003d\u003d1100110269]))\nprint(part2.shape[0])",
      "metadata": {
        "pycharm": {
          "metadata": false,
          "name": "#%%\n",
          "is_executing": false
        }
      }
    },
    {
      "cell_type": "code",
      "execution_count": 17,
      "outputs": [
        {
          "name": "stdout",
          "text": [
            "[1100110269]\n"
          ],
          "output_type": "stream"
        }
      ],
      "source": "#part c\ndevices \u003d np.unique(consumArray[:,2])\n# print(devices.shape[0])\ndevicesWithUsers\u003dnp.zeros(devices.shape[0])\n\nfor j in range(devices.shape[0]):\n    # devicesWithUsers[i]\u003di\n    i \u003d devices[j]\n    temp \u003d np.unique((consumArray[:,3][consumArray[:,2]\u003d\u003di]))\n    devicesWithUsers[j]\u003dtemp.shape[0]\n\nmax \u003d np.max(devicesWithUsers)\nprint(devices[np.where(devicesWithUsers\u003d\u003dmax)])\n",
      "metadata": {
        "pycharm": {
          "metadata": false,
          "name": "#%%\n",
          "is_executing": false
        }
      }
    },
    {
      "cell_type": "code",
      "execution_count": 31,
      "outputs": [
        {
          "name": "stdout",
          "text": [
            "[[101014046697 1.8162068965517244]\n [101014060803 0.0]\n [101014067911 0.0]\n ...\n [101024048102 2.732051282051282]\n [101024048103 0.7692307692307693]\n [110011001142 0.45957446808510644]]\n"
          ],
          "output_type": "stream"
        }
      ],
      "source": "# part d\nusers,counts \u003d np.unique(consumArray[:,3],return_counts\u003dTrue)\njuneData \u003d consumArray[109781:141640,:]\nuserfuel \u003d np.zeros(users.shape[0])\nfor i in range(juneData.shape[0]):\n    userNo \u003d juneData[i,3]\n    # if userfuel[np.where(users[juneData[i,3]\n    indexOfUser \u003d np.where(users\u003d\u003duserNo)\n    userfuel[indexOfUser]+\u003djuneData[i,4]\n\nfor i in range(users.shape[0]):\n    userfuel[i]/\u003dcounts[i]\n    # print(\"Mean fuel of \" + users[i] + \" is: \"+userfuel[i] )\n\ntableford \u003d np.vstack((users,userfuel))\ntableford \u003d tableford.T\nprint(tableford)\n\nnp.savetxt(\"printing.txt\",tableford)\n# print(np.hstack((users,userfuel)))",
      "metadata": {
        "pycharm": {
          "metadata": false,
          "name": "#%%\n",
          "is_executing": false
        }
      }
    },
    {
      "cell_type": "code",
      "execution_count": 26,
      "outputs": [],
      "source": "\n",
      "metadata": {
        "pycharm": {
          "metadata": false,
          "name": "#%%\n",
          "is_executing": false
        }
      }
    },
    {
      "cell_type": "code",
      "execution_count": null,
      "outputs": [],
      "source": "\n",
      "metadata": {
        "pycharm": {
          "metadata": false,
          "name": "#%%\n"
        }
      }
    }
  ],
  "metadata": {
    "language_info": {
      "codemirror_mode": {
        "name": "ipython",
        "version": 2
      },
      "file_extension": ".py",
      "mimetype": "text/x-python",
      "name": "python",
      "nbconvert_exporter": "python",
      "pygments_lexer": "ipython2",
      "version": "2.7.6"
    },
    "kernelspec": {
      "name": "python3",
      "language": "python",
      "display_name": "Python 3"
    }
  },
  "nbformat": 4,
  "nbformat_minor": 0
}