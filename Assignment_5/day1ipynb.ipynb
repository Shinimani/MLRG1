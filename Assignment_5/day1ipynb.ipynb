{
  "cells": [
    {
      "cell_type": "code",
      "execution_count": 11,
      "metadata": {
        "collapsed": true,
        "pycharm": {
          "is_executing": false
        }
      },
      "outputs": [],
      "source": "import os\nimport string\nimport numpy as np\nimport pandas as pd \n\n# trainfile \u003d sys.argv[1]\n# testfile \u003d sys.argv[2]\n# testpredfile \u003d sys.argv[3]\n\ntrainfile \u003d \"traindata.csv\"\ntestfile \u003d \"testdata.csv\"\ntestpredfile \u003d \"output.txt\"\n\n\n\n\ntrainD \u003d np.array(pd.read_csv(trainfile , header\u003d0))\ntestD \u003d np.array(pd.read_csv(testfile, header\u003d0))\n\n# trainX \u003d trainD[:,0]\n# trainY \u003d trainD[:,1]\ntrainExamples \u003d trainD.shape[0]\n# Stopwords, not required for part a\nstopwords \u003d [\u0027a\u0027, \u0027about\u0027, \u0027above\u0027, \u0027across\u0027, \u0027after\u0027, \u0027afterwards\u0027, \u0027again\u0027, \u0027against\u0027, \u0027all\u0027, \u0027almost\u0027, \u0027alone\u0027,\n             \u0027along\u0027, \u0027already\u0027, \u0027also\u0027, \u0027although\u0027, \u0027always\u0027, \u0027am\u0027, \u0027among\u0027, \u0027amongst\u0027, \u0027amoungst\u0027, \u0027amount\u0027,\n             \u0027an\u0027, \u0027and\u0027, \u0027another\u0027, \u0027any\u0027, \u0027anyhow\u0027, \u0027anyone\u0027, \u0027anything\u0027, \u0027anyway\u0027, \u0027anywhere\u0027, \u0027are\u0027, \u0027around\u0027,\n             \u0027as\u0027, \u0027at\u0027, \u0027back\u0027, \u0027be\u0027, \u0027became\u0027, \u0027because\u0027, \u0027become\u0027, \u0027becomes\u0027, \u0027becoming\u0027, \u0027been\u0027, \u0027before\u0027,\n             \u0027beforehand\u0027, \u0027behind\u0027, \u0027being\u0027, \u0027below\u0027, \u0027beside\u0027, \u0027besides\u0027, \u0027between\u0027, \u0027beyond\u0027, \u0027bill\u0027, \u0027both\u0027,\n             \u0027bottom\u0027, \u0027but\u0027, \u0027by\u0027, \u0027call\u0027, \u0027can\u0027, \u0027cannot\u0027, \u0027cant\u0027, \u0027co\u0027, \u0027con\u0027, \u0027could\u0027, \u0027couldnt\u0027, \u0027cry\u0027, \u0027de\u0027,\n             \u0027describe\u0027, \u0027detail\u0027, \u0027did\u0027, \u0027do\u0027, \u0027does\u0027, \u0027doing\u0027, \u0027don\u0027, \u0027done\u0027, \u0027down\u0027, \u0027due\u0027, \u0027during\u0027, \u0027each\u0027, \u0027eg\u0027,\n             \u0027eight\u0027, \u0027either\u0027, \u0027eleven\u0027, \u0027else\u0027, \u0027elsewhere\u0027, \u0027empty\u0027, \u0027enough\u0027, \u0027etc\u0027, \u0027even\u0027, \u0027ever\u0027, \u0027every\u0027, \u0027everyone\u0027,\n             \u0027everything\u0027, \u0027everywhere\u0027, \u0027except\u0027, \u0027few\u0027, \u0027fifteen\u0027, \u0027fify\u0027, \u0027fill\u0027, \u0027find\u0027, \u0027fire\u0027, \u0027first\u0027, \u0027five\u0027, \u0027for\u0027,\n             \u0027former\u0027, \u0027formerly\u0027, \u0027forty\u0027, \u0027found\u0027, \u0027four\u0027, \u0027from\u0027, \u0027front\u0027, \u0027full\u0027, \u0027further\u0027, \u0027get\u0027, \u0027give\u0027, \u0027go\u0027, \u0027had\u0027,\n             \u0027has\u0027, \u0027hasnt\u0027, \u0027have\u0027, \u0027having\u0027, \u0027he\u0027, \u0027hence\u0027, \u0027her\u0027, \u0027here\u0027, \u0027hereafter\u0027, \u0027hereby\u0027, \u0027herein\u0027, \u0027hereupon\u0027,\n             \u0027hers\u0027, \u0027herself\u0027, \u0027him\u0027, \u0027himself\u0027, \u0027his\u0027, \u0027how\u0027, \u0027however\u0027, \u0027hundred\u0027, \u0027i\u0027, \u0027ie\u0027, \u0027if\u0027, \u0027in\u0027, \u0027inc\u0027, \u0027indeed\u0027,\n             \u0027interest\u0027, \u0027into\u0027, \u0027is\u0027, \u0027it\u0027, \u0027its\u0027, \u0027itself\u0027, \u0027just\u0027, \u0027keep\u0027, \u0027last\u0027, \u0027latter\u0027, \u0027latterly\u0027, \u0027least\u0027, \u0027less\u0027,\n             \u0027ltd\u0027, \u0027made\u0027, \u0027many\u0027, \u0027may\u0027, \u0027me\u0027, \u0027meanwhile\u0027, \u0027might\u0027, \u0027mill\u0027, \u0027mine\u0027, \u0027more\u0027, \u0027moreover\u0027, \u0027most\u0027, \u0027mostly\u0027,\n             \u0027move\u0027, \u0027much\u0027, \u0027must\u0027, \u0027my\u0027, \u0027myself\u0027, \u0027name\u0027, \u0027namely\u0027, \u0027neither\u0027, \u0027never\u0027, \u0027nevertheless\u0027, \u0027next\u0027, \u0027nine\u0027,\n             \u0027no\u0027, \u0027nobody\u0027, \u0027none\u0027, \u0027noone\u0027, \u0027nor\u0027, \u0027not\u0027, \u0027nothing\u0027, \u0027now\u0027, \u0027nowhere\u0027, \u0027of\u0027, \u0027off\u0027, \u0027often\u0027, \u0027on\u0027, \u0027once\u0027,\n             \u0027one\u0027, \u0027only\u0027, \u0027onto\u0027, \u0027or\u0027, \u0027other\u0027, \u0027others\u0027, \u0027otherwise\u0027, \u0027our\u0027, \u0027ours\u0027, \u0027ourselves\u0027, \u0027out\u0027, \u0027over\u0027, \u0027own\u0027,\n             \u0027part\u0027, \u0027per\u0027, \u0027perhaps\u0027, \u0027please\u0027, \u0027put\u0027, \u0027rather\u0027, \u0027re\u0027, \u0027s\u0027, \u0027same\u0027, \u0027see\u0027, \u0027seem\u0027, \u0027seemed\u0027, \u0027seeming\u0027,\n             \u0027seems\u0027, \u0027serious\u0027, \u0027several\u0027, \u0027she\u0027, \u0027should\u0027, \u0027show\u0027, \u0027side\u0027, \u0027since\u0027, \u0027sincere\u0027, \u0027six\u0027, \u0027sixty\u0027, \u0027so\u0027, \n             \u0027some\u0027, \u0027somehow\u0027, \u0027someone\u0027, \u0027something\u0027, \u0027sometime\u0027, \u0027sometimes\u0027, \u0027somewhere\u0027, \u0027still\u0027, \u0027such\u0027, \u0027system\u0027,\n             \u0027t\u0027, \u0027take\u0027, \u0027ten\u0027, \u0027than\u0027, \u0027that\u0027, \u0027the\u0027, \u0027their\u0027, \u0027theirs\u0027, \u0027them\u0027, \u0027themselves\u0027, \u0027then\u0027, \u0027thence\u0027, \u0027there\u0027,\n             \u0027thereafter\u0027, \u0027thereby\u0027, \u0027therefore\u0027, \u0027therein\u0027, \u0027thereupon\u0027, \u0027these\u0027, \u0027they\u0027, \u0027thickv\u0027, \u0027thin\u0027, \u0027third\u0027, \u0027this\u0027,\n             \u0027those\u0027, \u0027though\u0027, \u0027three\u0027, \u0027through\u0027, \u0027throughout\u0027, \u0027thru\u0027, \u0027thus\u0027, \u0027to\u0027, \u0027together\u0027, \u0027too\u0027, \u0027top\u0027, \u0027toward\u0027,\n             \u0027towards\u0027, \u0027twelve\u0027, \u0027twenty\u0027, \u0027two\u0027, \u0027un\u0027, \u0027under\u0027, \u0027until\u0027, \u0027up\u0027, \u0027upon\u0027, \u0027us\u0027, \u0027very\u0027, \u0027via\u0027, \u0027was\u0027, \u0027we\u0027,\n             \u0027well\u0027, \u0027were\u0027, \u0027what\u0027, \u0027whatever\u0027, \u0027when\u0027, \u0027whence\u0027, \u0027whenever\u0027, \u0027where\u0027, \u0027whereafter\u0027, \u0027whereas\u0027, \u0027whereby\u0027,\n             \u0027wherein\u0027, \u0027whereupon\u0027, \u0027wherever\u0027, \u0027whether\u0027, \u0027which\u0027, \u0027while\u0027, \u0027whither\u0027, \u0027who\u0027, \u0027whoever\u0027, \u0027whole\u0027, \u0027whom\u0027,\n             \u0027whose\u0027, \u0027why\u0027, \u0027will\u0027, \u0027with\u0027, \u0027within\u0027, \u0027without\u0027, \u0027would\u0027, \u0027yet\u0027, \u0027you\u0027, \u0027your\u0027, \u0027yours\u0027, \u0027yourself\u0027,\n             \u0027yourselves\u0027]"
    },
    {
      "cell_type": "code",
      "execution_count": 10,
      "outputs": [
        {
          "name": "stdout",
          "text": [
            "(10000, 2)\n[\"One of the other reviewers has mentioned that after watching just 1 Oz episode you\u0027ll be hooked. They are right, as this is exactly what happened with me.The first thing that struck me about Oz was its brutality or unflinching scenes of violence, which set in right from the word GO. Trust me, this is not a show for the faint hearted or timid. This show pulls no punches with regards to drugs, sex or violence. Its is hardcore, in the classic use of the word.It is called OZ as that is the nickname given to the Oswald Maximum Security State Penitentary. It focuses mainly on Emerald City, an experimental section of the prison where all the cells have glass fronts or face inwards, so privacy is not high on the agenda. Em City is home to many..Aryans, Muslims, gangstas, Latinos, Christians, Italians, Irish or more....so scuffles, death stares, dodgy dealings or shady agreements are never far away.I would say the main appeal of the show is due to the fact that it goes where other shows wouldn\u0027t dare. Forget pretty pictures painted for mainstream audiences, forget charm, forget romance...OZ doesn\u0027t mess around. The first episode I ever saw struck me as so nasty it was surreal, I couldn\u0027t say I was ready for it, but as I watched more, I developed a taste for Oz, or got accustomed to the high levels of graphic violence. Not just violence, but injustice (crooked guards who\u0027ll be sold out for a nickel, inmates who\u0027ll kill on order or get away with it, well mannered, middle class inmates being turned into prison bitches due to their lack of street skills or prison experience) Watching Oz, you may become comfortable with what is uncomfortable viewing....thats if you can get in touch with your darker side.\"\n \u0027positive\u0027]\n"
          ],
          "output_type": "stream"
        }
      ],
      "source": "print(trainD.shape)\nprint(trainD[0])\n# print(tr)",
      "metadata": {
        "pycharm": {
          "metadata": false,
          "name": "#%%\n",
          "is_executing": false
        }
      }
    },
    {
      "cell_type": "code",
      "execution_count": 21,
      "outputs": [],
      "source": "\n\n#making vocabulary of words such that key is word, value is it\u0027s frequency\nvocabulary \u003d {}\n#running loop over all training examples\nfor i in range(trainExamples):\n    #word list for one example\n    for w in trainD[i][0].split():\n        word  \u003d w.strip(string.punctuation).lower()\n        if (len(word)\u003e2):  \n            if word in vocabulary:\n                vocabulary[word]+\u003d1\n            else:\n                vocabulary[word]\u003d1\n",
      "metadata": {
        "pycharm": {
          "metadata": false,
          "name": "#%%\n",
          "is_executing": false
        }
      }
    },
    {
      "cell_type": "code",
      "execution_count": 22,
      "outputs": [
        {
          "data": {
            "text/plain": "\u003cFigure size 432x288 with 1 Axes\u003e",
            "image/png": "[encoded data removed]"
          },
          "metadata": {
            "needs_background": "light"
          },
          "output_type": "display_data"
        }
      ],
      "source": "\n# Plotting a graph of no of words with a given frequency to decide cutoff drequency\nimport matplotlib.pyplot as plt\nnum_words \u003d [0 for i in range(max(vocabulary.values())+1)] \nfreq \u003d [i for i in range(max(vocabulary.values())+1)] \nfor key in vocabulary:\n    num_words[vocabulary[key]]+\u003d1\nplt.plot(freq,num_words)\nplt.axis([1, 10, 0, 20000])\nplt.xlabel(\"Frequency\")\nplt.ylabel(\"No of words\")\nplt.grid()\nplt.show()",
      "metadata": {
        "pycharm": {
          "metadata": false,
          "name": "#%%\n",
          "is_executing": false
        }
      }
    },
    {
      "cell_type": "code",
      "execution_count": 23,
      "outputs": [
        {
          "name": "stdout",
          "text": [
            "Number of words with frequency higher than cutoff frequency(40) : 4067\n"
          ],
          "output_type": "stream"
        }
      ],
      "source": "cutoff_freq \u003d 40\n# For deciding cutoff frequency\nnum_words_above_cutoff \u003d len(vocabulary)-sum(num_words[0:cutoff_freq]) \nprint(\"Number of words with frequency higher than cutoff frequency({}) :\".format(cutoff_freq),num_words_above_cutoff)",
      "metadata": {
        "pycharm": {
          "metadata": false,
          "name": "#%%\n",
          "is_executing": false
        }
      }
    },
    {
      "cell_type": "code",
      "execution_count": 24,
      "outputs": [],
      "source": "\n# Words with frequency higher than cutoff frequency are chosen as features\n# (i.e we remove words with low frequencies as they would not be significant )\nfeatures \u003d []\nfor key in vocabulary:\n    if vocabulary[key] \u003e\u003dcutoff_freq:\n        features.append(key)",
      "metadata": {
        "pycharm": {
          "metadata": false,
          "name": "#%%\n",
          "is_executing": false
        }
      }
    },
    {
      "cell_type": "code",
      "execution_count": 26,
      "outputs": [],
      "source": "# To represent training data as word vector counts\nX_train_dataset \u003d np.zeros((trainExamples,len(features)))\n# This can take some time to complete\nfor i in range(trainExamples):\n    # print(i) # Uncomment to see progress\n    word_list \u003d [ word.strip(string.punctuation).lower() for word in trainD[i][1].split()]\n    for word in word_list:\n        if word in features:\n            X_train_dataset[i][features.index(word)] +\u003d 1",
      "metadata": {
        "pycharm": {
          "metadata": false,
          "name": "#%%\n",
          "is_executing": false
        }
      }
    },
    {
      "cell_type": "code",
      "execution_count": null,
      "outputs": [],
      "source": "\n",
      "metadata": {
        "pycharm": {
          "metadata": false,
          "name": "#%%\n"
        }
      }
    }
  ],
  "metadata": {
    "language_info": {
      "codemirror_mode": {
        "name": "ipython",
        "version": 2
      },
      "file_extension": ".py",
      "mimetype": "text/x-python",
      "name": "python",
      "nbconvert_exporter": "python",
      "pygments_lexer": "ipython2",
      "version": "2.7.6"
    },
    "kernelspec": {
      "name": "python3",
      "language": "python",
      "display_name": "Python 3"
    }
  },
  "nbformat": 4,
  "nbformat_minor": 0
}