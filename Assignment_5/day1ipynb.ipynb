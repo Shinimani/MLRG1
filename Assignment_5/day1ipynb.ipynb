{
  "cells": [
    {
      "cell_type": "code",
      "execution_count": 131,
      "metadata": {
        "collapsed": true,
        "pycharm": {
          "is_executing": false
        }
      },
      "outputs": [],
      "source": "\nimport sys\nimport string\nimport numpy as np\nimport pandas as pd \n\n# trainfile \u003d sys.argv[1]\n# testfile \u003d sys.argv[2]\n# testpredfile \u003d sys.argv[3]\n\ntrainfile \u003d \"traindata.csv\"\ntestfile \u003d \"testdata.csv\"\ntestpredfile \u003d \"posneg.txt\"\n\n\n\n\ntrainD \u003d np.array(pd.read_csv(trainfile , header\u003d0))\ntestD \u003d np.array(pd.read_csv(testfile, header\u003d0))\n\n# trainX \u003d trainD[:,0]\n# trainY \u003d trainD[:,1]\ntrainExamples \u003d trainD.shape[0]"
    },
    {
      "cell_type": "code",
      "execution_count": 132,
      "outputs": [
        {
          "name": "stdout",
          "text": [
            "(10000, 2)\n[\"One of the other reviewers has mentioned that after watching just 1 Oz episode you\u0027ll be hooked. They are right, as this is exactly what happened with me.The first thing that struck me about Oz was its brutality or unflinching scenes of violence, which set in right from the word GO. Trust me, this is not a show for the faint hearted or timid. This show pulls no punches with regards to drugs, sex or violence. Its is hardcore, in the classic use of the word.It is called OZ as that is the nickname given to the Oswald Maximum Security State Penitentary. It focuses mainly on Emerald City, an experimental section of the prison where all the cells have glass fronts or face inwards, so privacy is not high on the agenda. Em City is home to many..Aryans, Muslims, gangstas, Latinos, Christians, Italians, Irish or more....so scuffles, death stares, dodgy dealings or shady agreements are never far away.I would say the main appeal of the show is due to the fact that it goes where other shows wouldn\u0027t dare. Forget pretty pictures painted for mainstream audiences, forget charm, forget romance...OZ doesn\u0027t mess around. The first episode I ever saw struck me as so nasty it was surreal, I couldn\u0027t say I was ready for it, but as I watched more, I developed a taste for Oz, or got accustomed to the high levels of graphic violence. Not just violence, but injustice (crooked guards who\u0027ll be sold out for a nickel, inmates who\u0027ll kill on order or get away with it, well mannered, middle class inmates being turned into prison bitches due to their lack of street skills or prison experience) Watching Oz, you may become comfortable with what is uncomfortable viewing....thats if you can get in touch with your darker side.\"\n \u0027positive\u0027]\n[\u0027negative\u0027 \u0027positive\u0027]\n"
          ],
          "output_type": "stream"
        }
      ],
      "source": "print(trainD.shape)\nprint(trainD[0])\n# print(tr)\nprint(np.unique(trainD[:,1]))\n\n# one \u003d np.unique(trainD[:,1])[1]\n# zero \u003d np.unique(trainD[:,1])[0]\none \u003d \u0027positive\u0027\nzero \u003d \u0027negative\u0027",
      "metadata": {
        "pycharm": {
          "metadata": false,
          "name": "#%%\n",
          "is_executing": false
        }
      }
    },
    {
      "cell_type": "code",
      "execution_count": 133,
      "outputs": [
        {
          "name": "stdout",
          "text": [
            "Train done\n"
          ],
          "output_type": "stream"
        }
      ],
      "source": "#preprocess the training data\nvocab \u003d {}\ntotal \u003d {}\nvocab[one] \u003d {}\nvocab[zero]\u003d {}\nvocab[\"full\"]\u003d{}\ntotal[one]\u003d{}\ntotal[zero]\u003d{}\ntotal[one][\"words\"] \u003d 0 \ntotal[one][\"examples\"] \u003d 0 \ntotal[zero][\"words\"] \u003d 0 \ntotal[zero][\"examples\"] \u003d 0 \n\n# vocabulary table contains 2 dictionaries positive and negative\n# which contains frequencies of words corresponding to that review type \n# total table contains the sum of frequencies of all words belonging to that review type\nfor i in range(trainExamples):\n    review \u003d trainD[i][1]\n    for w in trainD[i][0].split():\n        word  \u003d w.strip(string.punctuation).lower()\n        if (len(word)\u003e2):\n            if word not in vocab[\"full\"]:\n                vocab[\"full\"][word]\u003d1\n            \n            if word in vocab[review]:\n                vocab[review][word]+\u003d1\n            else:\n                vocab[review][word]\u003d1\n        total[review][\"words\"]+\u003d1\n    total[review][\"examples\"] +\u003d1   \n\nlenvocab \u003d len(vocab[\"full\"])\nreviewProb \u003d {}\nreviewProb[one] \u003d np.log(total[one][\"examples\"]/(total[one][\"examples\"] + total[zero][\"examples\"]))\nreviewProb[zero] \u003d np.log(total[zero][\"examples\"]/(total[one][\"examples\"] + total[zero][\"examples\"]))\n\nprint(\"Train done\")",
      "metadata": {
        "pycharm": {
          "metadata": false,
          "name": "#%%\n",
          "is_executing": false
        }
      }
    },
    {
      "cell_type": "code",
      "execution_count": 134,
      "outputs": [],
      "source": "#finds absolute of log of probability of X given Y\ndef probXgivenY(X,Y):\n    logsum \u003d 0;\n    for w in X.split():\n        word  \u003d w.strip(string.punctuation).lower()\n        if word in vocab[Y]:\n            logsum +\u003d (np.log(vocab[Y][word]+1/(total[Y][\"words\"] + lenvocab)))\n            \n    return logsum\n\ndef predict(X):\n    pos \u003d probXgivenY(X,one) + reviewProb[one]\n    neg \u003d probXgivenY(X,zero) + reviewProb[zero]\n    if pos\u003e\u003dneg:\n        return one\n    else:  \n        return zero",
      "metadata": {
        "pycharm": {
          "metadata": false,
          "name": "#%%\n",
          "is_executing": false
        }
      }
    },
    {
      "cell_type": "code",
      "execution_count": 135,
      "outputs": [
        {
          "name": "stdout",
          "text": [
            "0.921\npositive\npositive\n40000\n"
          ],
          "output_type": "stream"
        }
      ],
      "source": "sum\u003d0\nfor i in range(trainExamples):\n    if trainD[i,1]\u003d\u003dpredict(trainD[i,0]):\n        sum+\u003d1\nprint(sum/trainExamples)\nprint(trainD[222,1])\nprint(predict(trainD[222,0]))\n# \ntestexamples \u003d testD.shape[0]\nprint(testexamples)",
      "metadata": {
        "pycharm": {
          "metadata": false,
          "name": "#%%\n",
          "is_executing": false
        }
      }
    },
    {
      "cell_type": "code",
      "execution_count": 113,
      "outputs": [
        {
          "name": "stdout",
          "text": [
            "0.0\n"
          ],
          "output_type": "stream"
        }
      ],
      "source": "# preds \u003d testD[:,0]\npreds \u003d np.zeros(testexamples)\nprint(preds[0])",
      "metadata": {
        "pycharm": {
          "metadata": false,
          "name": "#%%\n",
          "is_executing": false
        }
      }
    },
    {
      "cell_type": "code",
      "execution_count": 114,
      "outputs": [
        {
          "name": "stdout",
          "text": [
            "negative\n"
          ],
          "output_type": "stream"
        }
      ],
      "source": "print(zero)",
      "metadata": {
        "pycharm": {
          "metadata": false,
          "name": "#%%\n",
          "is_executing": false
        }
      }
    },
    {
      "cell_type": "code",
      "execution_count": 115,
      "outputs": [],
      "source": "\nfor i in range(testexamples):\n    prediction \u003d predict(testD[i,0])\n    if prediction \u003d\u003d zero:\n        preds[i]\u003d0\n    else:\n        preds[i]\u003d1\n    \n    if (i+1)%200\u003d\u003d0:\n        print(i+1)",
      "metadata": {
        "pycharm": {
          "metadata": false,
          "name": "#%%\n",
          "is_executing": false
        }
      }
    },
    {
      "cell_type": "code",
      "execution_count": 98,
      "outputs": [
        {
          "name": "stdout",
          "text": [
            "negative\n"
          ],
          "output_type": "stream"
        }
      ],
      "source": "# print(preds[0])\nnp.savetxt(testpredfile,preds)\n",
      "metadata": {
        "pycharm": {
          "metadata": false,
          "name": "#%%\n",
          "is_executing": false
        }
      }
    },
    {
      "cell_type": "code",
      "execution_count": null,
      "outputs": [],
      "source": "\n",
      "metadata": {
        "pycharm": {
          "metadata": false,
          "name": "#%%\n"
        }
      }
    }
  ],
  "metadata": {
    "language_info": {
      "codemirror_mode": {
        "name": "ipython",
        "version": 2
      },
      "file_extension": ".py",
      "mimetype": "text/x-python",
      "name": "python",
      "nbconvert_exporter": "python",
      "pygments_lexer": "ipython2",
      "version": "2.7.6"
    },
    "kernelspec": {
      "name": "python3",
      "language": "python",
      "display_name": "Python 3"
    }
  },
  "nbformat": 4,
  "nbformat_minor": 0
}