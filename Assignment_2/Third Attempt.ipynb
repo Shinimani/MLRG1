{
  "cells": [
    {
      "cell_type": "code",
      "execution_count": 1,
      "metadata": {
        "collapsed": true,
        "pycharm": {
          "is_executing": false
        }
      },
      "outputs": [],
      "source": "import numpy as np\nimport pandas as pd\nfrom matplotlib import pyplot as plt"
    },
    {
      "cell_type": "code",
      "execution_count": 2,
      "outputs": [],
      "source": "def sigmoid(x):\n    return 1/(1+np.exp(-x))\n\ndef sigmoid_der(x):\n    return (x)*(1-(x))",
      "metadata": {
        "pycharm": {
          "metadata": false,
          "name": "#%%\n",
          "is_executing": false
        }
      }
    },
    {
      "cell_type": "code",
      "execution_count": 3,
      "outputs": [],
      "source": "# def neural_a(trainFile, paramFile, weightFile):\ntrainFile \u003d \"train.csv\"\nparamFile \u003d \"param.txt\"",
      "metadata": {
        "pycharm": {
          "metadata": false,
          "name": "#%%\n",
          "is_executing": false
        }
      }
    },
    {
      "cell_type": "code",
      "execution_count": 4,
      "outputs": [],
      "source": "\nasArrays \u003d pd.read_csv(trainFile,header\u003dNone).values\nX \u003d asArrays[:,:(asArrays.shape[1] - 1)]\ny \u003d asArrays[:,(asArrays.shape[1]-1)]\n",
      "metadata": {
        "pycharm": {
          "metadata": false,
          "name": "#%%\n",
          "is_executing": false
        }
      }
    },
    {
      "cell_type": "code",
      "execution_count": 5,
      "outputs": [],
      "source": "\nparams \u003d open(paramFile,\u0027r\u0027)\nlearningRateType \u003d int(params.readline(),10)\nlearningRate \u003d float(params.readline())\nmaxIter \u003d int(params.readline(),10)\nbatchSize \u003d int(params.readline(),10)\nnnArchitecture \u003d params.readline().rstrip().split(\u0027 \u0027)\nnnArchitecture \u003d list(map(int, nnArchitecture))\n",
      "metadata": {
        "pycharm": {
          "metadata": false,
          "name": "#%%\n",
          "is_executing": false
        }
      }
    },
    {
      "cell_type": "code",
      "execution_count": 6,
      "outputs": [],
      "source": "wdict \u003d {}\n\n# +1 done everywhere to include bias term in the weights matrix itself\nwdict[0] \u003d np.zeros((X.shape[1] + 1,nnArchitecture[0]))\n\ntotalLayers \u003d len(nnArchitecture)\n\nfor i in range(len(nnArchitecture)):\n    if i!\u003d0:\n        wdict[i] \u003d np.zeros((nnArchitecture[i-1] + 1,nnArchitecture[i]))\n\nwdict[totalLayers] \u003d np.zeros((nnArchitecture[totalLayers-1] + 1,1))\n",
      "metadata": {
        "pycharm": {
          "metadata": false,
          "name": "#%%\n",
          "is_executing": false
        }
      }
    },
    {
      "cell_type": "code",
      "execution_count": null,
      "outputs": [],
      "source": "\n",
      "metadata": {
        "pycharm": {
          "metadata": false,
          "name": "#%%\n"
        }
      }
    }
  ],
  "metadata": {
    "language_info": {
      "codemirror_mode": {
        "name": "ipython",
        "version": 2
      },
      "file_extension": ".py",
      "mimetype": "text/x-python",
      "name": "python",
      "nbconvert_exporter": "python",
      "pygments_lexer": "ipython2",
      "version": "2.7.6"
    },
    "kernelspec": {
      "name": "python3",
      "language": "python",
      "display_name": "Python 3"
    }
  },
  "nbformat": 4,
  "nbformat_minor": 0
}