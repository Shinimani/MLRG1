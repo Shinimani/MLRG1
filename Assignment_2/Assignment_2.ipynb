{
  "cells": [
    {
      "cell_type": "code",
      "execution_count": 2,
      "metadata": {
        "collapsed": true,
        "pycharm": {
          "is_executing": false
        }
      },
      "outputs": [],
      "source": "import numpy as np\nimport pandas as pd\nfrom matplotlib import pyplot as plt\n"
    },
    {
      "cell_type": "code",
      "execution_count": 3,
      "outputs": [],
      "source": "def sigmoid(x):\n    return 1/(1+np.exp(-x))\n\ndef sigmoid_der(x):\n    return sigmoid(x)*(1-sigmoid(x))",
      "metadata": {
        "pycharm": {
          "metadata": false,
          "name": "#%%\n",
          "is_executing": false
        }
      }
    },
    {
      "cell_type": "code",
      "execution_count": 12,
      "outputs": [],
      "source": "def neural_a(trainFile, paramFile, weightFile):\n    asArrays \u003d pd.read_csv(trainFile,header\u003dNone).values\n    X \u003d asArrays[:,:(asArrays.shape[1] - 1)]\n    y \u003d asArrays[:,(asArrays.shape[1]-1)]\n    X \u003d np.hstack((np.ones((X.shape[0],1)),X))\n    \n    params \u003d open(paramFile,\u0027r\u0027)\n    learningRateType \u003d int(params.readline(),10)\n    learningRate \u003d float(params.readline())\n    maxIter \u003d int(params.readline(),10)\n    batchSize \u003d int(params.readline(),10)\n    nnArchitecture \u003d params.readline().rstrip().split(\u0027 \u0027)\n    nnArchitecture \u003d list(map(int, nnArchitecture))\n   \nclass Layer:\n    def __init__(self):\n        pass\n    \n    def forward(self,input):\n        return input\n    \n    def backward(self,input,gradNext,wNext):\n        gradThis \u003d np.dot(gradNext,wNext)\n        return gradThis\n        \n    \n    ",
      "metadata": {
        "pycharm": {
          "metadata": false,
          "name": "#%%\n",
          "is_executing": false
        }
      }
    },
    {
      "cell_type": "code",
      "execution_count": 13,
      "outputs": [],
      "source": "class Dense(Layer):\n    def __init__(self, noOfInputs, noOfOutputs, learningRate):\n        self.learningRate\u003dlearningRate\n        self.weights \u003d np.zeros((noOfInputs,noOfOutputs))\n        self.bias \u003d np.zeros(noOfOutputs)\n        self.z \u003d np.zeros(noOfOutputs)\n    # self.a \u003d np.zeros(noOfOutputs)\n\n\n    def forward(self, input):\n        self.z \u003d np.dot(input,self.weights) + self.bias\n        return self.z\n        # self.a \u003d sigmoid(self.z)\n    \n    def backward(self,input,delLbydelZnext,wNext):\n        delLbydelZ \u003d delLbydelZnext*sigmoid_der(self.z)*wNext\n        delW \u003d input*delLbydelZ\n        self.weights -\u003d self.learningRate*delW\n        self.bias -\u003d self.learningRate*delLbydelZ\n        return delLbydelZ",
      "metadata": {
        "pycharm": {
          "metadata": false,
          "name": "#%%\n",
          "is_executing": false
        }
      }
    },
    {
      "cell_type": "code",
      "execution_count": null,
      "outputs": [],
      "source": "class FinalLayer(Layer):\n    def __init__(self,inputs,learningRate):\n        self.learningRate \u003d learningRate\n        self.weights \u003d np.zeros(inputs)\n        self.bias \u003d 0\n        self.z \u003d 0\n        \n    def forward(self,input):\n        self.z \u003d np.dot(input,self.weights) + self.bias\n        return self.z\n    \n    def backward(self,input,gradNext,wNext):\n        \nclass neural_for_constant:\n    def __init__(self,X,y,architecture,learningRate,maxIter,batchSize):\n        self.X \u003d X\n        self.y \u003d y\n        self.architecture \u003d architecture\n        self.learningRate \u003d learningRate\n        self.maxIter \u003d maxIter\n        self.batchSize \u003d batchSize\n        self.network \u003d []\n        self.network.append(Dense((X.shape(1)),(self.architecture[0]),self.learningRate))\n        for i in range((self.architecture.shape()) - 1):\n            self.network.append(Dense(architecture[i],architecture[i+1],self.learningRate))\n        self.network.append()\n        \n    def forward(self):\n        for layer in self.architecture:\n            \n    \n        \n    \n",
      "metadata": {
        "pycharm": {
          "metadata": false,
          "name": "#%%\n"
        }
      }
    }
  ],
  "metadata": {
    "language_info": {
      "codemirror_mode": {
        "name": "ipython",
        "version": 2
      },
      "file_extension": ".py",
      "mimetype": "text/x-python",
      "name": "python",
      "nbconvert_exporter": "python",
      "pygments_lexer": "ipython2",
      "version": "2.7.6"
    },
    "kernelspec": {
      "name": "python3",
      "language": "python",
      "display_name": "Python 3"
    }
  },
  "nbformat": 4,
  "nbformat_minor": 0
}