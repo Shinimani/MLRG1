{
  "cells": [
    {
      "cell_type": "code",
      "execution_count": 2,
      "metadata": {
        "collapsed": true,
        "pycharm": {
          "is_executing": false
        }
      },
      "outputs": [],
      "source": "import numpy as np\nimport pandas as pd\nfrom matplotlib import pyplot as plt\n"
    },
    {
      "cell_type": "code",
      "execution_count": 3,
      "outputs": [],
      "source": "def sigmoid(x):\n    return 1/(1+np.exp(-x))\n\ndef sigmoid_der(x):\n    return sigmoid(x)*(1-sigmoid(x))",
      "metadata": {
        "pycharm": {
          "metadata": false,
          "name": "#%%\n",
          "is_executing": false
        }
      }
    },
    {
      "cell_type": "code",
      "execution_count": 1,
      "outputs": [],
      "source": "def neural_a(trainFile, paramFile, weightFile):\n    asArrays \u003d pd.read_csv(trainFile,header\u003dNone).values\n    X \u003d asArrays[:,:(asArrays.shape[1] - 1)]\n    y \u003d asArrays[:,(asArrays.shape[1]-1)]\n    X \u003d np.hstack((np.ones((X.shape[0],1)),X))\n    \n    params \u003d open(paramFile,\u0027r\u0027)\n    learningRateType \u003d int(params.readline(),10)\n    learningRate \u003d float(params.readline())\n    maxIter \u003d int(params.readline(),10)\n    batchSize \u003d int(params.readline(),10)\n    nnArchitechture \u003d params.readline().rstrip().split(\u0027 \u0027)\n    nnArchitechture \u003d list(map(int, nnArchitechture))\n    \n    \n    \n    ",
      "metadata": {
        "pycharm": {
          "metadata": false,
          "name": "#%%\n",
          "is_executing": false
        }
      }
    },
    {
      "cell_type": "code",
      "execution_count": null,
      "outputs": [],
      "source": "class Dense:\n    def __init__(self, noOfPerceptrons, noOfOutputs, learningRate):\n        self.learningRate\u003dlearningRate\n        self.weights \u003d np.zeros((noOfPerceptrons,noOfOutputs))\n        self.bias \u003d np.zeros(noOfOutputs)\n        \n    def forward(self, input):\n        return np.dot(input,self.weights) + self.bias\n    \n    def backward(self,input,grad_output):\n        \n        \n\n",
      "metadata": {
        "pycharm": {
          "metadata": false,
          "name": "#%%\n"
        }
      }
    }
  ],
  "metadata": {
    "language_info": {
      "codemirror_mode": {
        "name": "ipython",
        "version": 2
      },
      "file_extension": ".py",
      "mimetype": "text/x-python",
      "name": "python",
      "nbconvert_exporter": "python",
      "pygments_lexer": "ipython2",
      "version": "2.7.6"
    },
    "kernelspec": {
      "name": "python3",
      "language": "python",
      "display_name": "Python 3"
    }
  },
  "nbformat": 4,
  "nbformat_minor": 0
}