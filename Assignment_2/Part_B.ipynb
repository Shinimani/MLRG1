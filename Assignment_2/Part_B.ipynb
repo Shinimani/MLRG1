{
  "cells": [
    {
      "cell_type": "code",
      "execution_count": 1,
      "outputs": [],
      "source": "import numpy as np\nimport pandas as pd",
      "metadata": {
        "pycharm": {
          "metadata": false,
          "name": "#%%\n",
          "is_executing": false
        }
      }
    },
    {
      "cell_type": "code",
      "execution_count": 17,
      "outputs": [],
      "source": "def sigmoid(x):\n    return 1/(1+np.exp(-x))\n\ndef sigmoid_der(x):\n    return (x)*(1-(x))\n\ndef softmax(x):\n    y \u003d np.atleast_2d(x)\n    y \u003d np.exp(y)\n    sum \u003d np.expand_dims(np.sum(y, axis \u003d 1), 1)\n    p \u003d y / sum\n    return p\n    \n\n",
      "metadata": {
        "pycharm": {
          "metadata": false,
          "name": "#%%\n",
          "is_executing": false
        }
      }
    },
    {
      "cell_type": "code",
      "execution_count": 11,
      "outputs": [],
      "source": "def oneHot():\n    arr \u003d [np.arange(10)]\n    one_hot_targets \u003d np.eye(10)[arr]\n    return one_hot_targets\n",
      "metadata": {
        "pycharm": {
          "metadata": false,
          "name": "#%%\n",
          "is_executing": false
        }
      }
    },
    {
      "cell_type": "code",
      "execution_count": 18,
      "outputs": [],
      "source": "\ndef forward_prop(X, wd, bd, arch):\n    zvalues \u003d {}\n    avalues \u003d {}\n    \n    layers \u003d len(arch)\n    \n    zvalues[0] \u003d X.T\n    avalues[0] \u003d X.T\n    \n    for i in range(1, layers-1):\n        zvalues[i] \u003d np.dot(wd[i],avalues[i-1]) + bd[i]\n        avalues[i] \u003d sigmoid(zvalues[i])\n    \n    zvalues[layers-1] \u003d np.dot(wd[layers-1],avalues[layers-2]) + bd[layers-1]\n    avalues[layers-1] \u003d softmax(zvalues[layers-1])\n    \n    \n    return avalues\n",
      "metadata": {
        "pycharm": {
          "metadata": false,
          "name": "#%%\n",
          "is_executing": false
        }
      }
    },
    {
      "cell_type": "code",
      "execution_count": 21,
      "outputs": [],
      "source": "def error_for_last(y,yhat):\n    n \u003d y.shape[0]\n    logYHat \u003d np.log(yhat)\n    mul \u003d y*logYHat\n    mul \u003d mul.flatten()\n    err \u003d np.sum(mul)\n    err /\u003dn\n    return err\n\n# arr \u003d np.arange(10)\n# print(arr)\n# print(np.sum(arr))\n# print(softmax(arr))\n# print(np.sum(softmax(arr)))\n",
      "metadata": {
        "pycharm": {
          "metadata": false,
          "name": "#%%\n",
          "is_executing": false
        }
      }
    },
    {
      "cell_type": "code",
      "execution_count": null,
      "outputs": [],
      "source": "\n",
      "metadata": {
        "pycharm": {
          "metadata": false,
          "name": "#%%\n"
        }
      }
    }
  ],
  "metadata": {
    "language_info": {
      "codemirror_mode": {
        "name": "ipython",
        "version": 2
      },
      "file_extension": ".py",
      "mimetype": "text/x-python",
      "name": "python",
      "nbconvert_exporter": "python",
      "pygments_lexer": "ipython2",
      "version": "2.7.6"
    },
    "kernelspec": {
      "name": "python3",
      "language": "python",
      "display_name": "Python 3"
    },
    "stem_cell": {
      "cell_type": "raw",
      "source": "",
      "metadata": {
        "pycharm": {
          "metadata": false
        }
      }
    }
  },
  "nbformat": 4,
  "nbformat_minor": 0
}