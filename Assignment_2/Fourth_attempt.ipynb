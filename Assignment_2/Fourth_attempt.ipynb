{
  "cells": [
    {
      "cell_type": "code",
      "execution_count": 1,
      "metadata": {
        "collapsed": true,
        "pycharm": {
          "is_executing": false
        }
      },
      "outputs": [],
      "source": "import numpy as np\nimport pandas as pd"
    },
    {
      "cell_type": "code",
      "execution_count": 2,
      "outputs": [],
      "source": "def sigmoid(x):\n    return 1/(1+np.exp(-x))\n\ndef sigmoid_der(x):\n    return (x)*(1-(x))\n\n",
      "metadata": {
        "pycharm": {
          "metadata": false,
          "name": "#%%\n",
          "is_executing": false
        }
      }
    },
    {
      "cell_type": "code",
      "execution_count": 3,
      "outputs": [
        {
          "name": "stdout",
          "text": [
            "[2, 50, 1]\n"
          ],
          "output_type": "stream"
        }
      ],
      "source": "trainFile \u003d \"train.csv\"\nparamFile \u003d \"param.txt\"\n \n\nasArrays \u003d pd.read_csv(trainFile,header\u003dNone).values\nXval \u003d asArrays[:,:(asArrays.shape[1] - 1)]\nyval \u003d asArrays[:,(asArrays.shape[1]-1)]\n\nparams \u003d open(paramFile,\u0027r\u0027)\nlearningRateType \u003d int(params.readline(),10)\nlearningRate \u003d float(params.readline())\nmaxIter \u003d int(params.readline(),10)\nbatchSize \u003d int(params.readline(),10)\narchi \u003d params.readline().rstrip().split(\u0027 \u0027)\narchi \u003d list(map(int, archi)) \narchi.insert(0,(Xval.shape[1]))\narchi.append(1)\nprint(archi)\n\n#dimensions of each z,a will be (number of neurons)*(number of examples)\n#dimensions of w is (neurons in this layer)*(neurons in prev layer)",
      "metadata": {
        "pycharm": {
          "metadata": false,
          "name": "#%%\n",
          "is_executing": false
        }
      }
    },
    {
      "cell_type": "code",
      "execution_count": null,
      "outputs": [],
      "source": "def forward_prop(X, wd, bd, arch):\n    zvalues \u003d {}\n    avalues \u003d {}\n    \n    layers \u003d len(arch)\n    \n    zvalues[0] \u003d X.T\n    avalues[0] \u003d X.T\n    \n    for i in range(1, layers):\n        zvalues[i] \u003d np.dot(wd[i],avalues[i-1]) + bd[i]\n        avalues[i] \u003d sigmoid(zvalues[i])\n    \n    return avalues",
      "metadata": {
        "pycharm": {
          "metadata": false,
          "name": "#%%\n"
        }
      }
    },
    {
      "cell_type": "code",
      "execution_count": 6,
      "outputs": [],
      "source": "def backward_prop(y, avalues, arch, wd, bd):\n    m \u003d y.shape[0]\n    \n    dw \u003d {}\n    db \u003d {}\n    \n    layers \u003d len(arch)\n    \n    yhat \u003d avalues[layers-1]\n    \n    da \u003d -(np.divide(y.T,yhat) - np.divide(1-y.T,1-yhat))\n    \n    for i in range(layers-1,0,-1):\n        dz \u003d da*sigmoid_der(avalues[i])\n        \n        dw[i] \u003d np.dot(dz,avalues[i-1].T)/m\n        db[i] \u003d np.sum(dz, axis \u003d 1)/m\n        \n        da \u003d np.dot(wd[i].T,dz)\n    return dw,db",
      "metadata": {
        "pycharm": {
          "metadata": false,
          "name": "#%%\n",
          "is_executing": false
        }
      }
    },
    {
      "cell_type": "code",
      "execution_count": 8,
      "outputs": [],
      "source": "def weightsInitialize(arch):\n    layers \u003d len(arch)\n    \n    wd \u003d {}\n    bd \u003d {}\n    \n    for i in range(layers - 1, 0, -1):\n        wd[i] \u003d np.zeros(arch[i],arch[i-1])\n        bd[i] \u003d np.zeros(arch[i])\n    \n    return wd,bd",
      "metadata": {
        "pycharm": {
          "metadata": false,
          "name": "#%%\n",
          "is_executing": false
        }
      }
    },
    {
      "cell_type": "code",
      "execution_count": null,
      "outputs": [],
      "source": "\n",
      "metadata": {
        "pycharm": {
          "metadata": false,
          "name": "#%%\n"
        }
      }
    }
  ],
  "metadata": {
    "language_info": {
      "codemirror_mode": {
        "name": "ipython",
        "version": 2
      },
      "file_extension": ".py",
      "mimetype": "text/x-python",
      "name": "python",
      "nbconvert_exporter": "python",
      "pygments_lexer": "ipython2",
      "version": "2.7.6"
    },
    "kernelspec": {
      "name": "python3",
      "language": "python",
      "display_name": "Python 3"
    }
  },
  "nbformat": 4,
  "nbformat_minor": 0
}