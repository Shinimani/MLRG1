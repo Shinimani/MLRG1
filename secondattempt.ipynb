{
 "cells": [
  {
   "cell_type": "code",
   "execution_count": 6,
   "metadata": {
    "collapsed": true,
    "pycharm": {
     "is_executing": false
    }
   },
   "outputs": [],
   "source": [
    "import numpy as np\n",
    "import pandas as pd\n",
    "from matplotlib import pyplot as plt\n",
    "\n",
    "    # data = pd.read_csv(\"train.csv\",header=None)\n",
    "\n",
    "\n",
    "\n"
   ]
  },
  {
   "cell_type": "code",
   "execution_count": 15,
   "metadata": {
    "pycharm": {
     "is_executing": false,
     "metadata": false,
     "name": "#%%\n"
    }
   },
   "outputs": [],
   "source": [
    "def part1a(trainFile,testFile,outputFile,weightFile):\n",
    "    \n",
    "    asArrays = pd.read_csv(trainFile,header=None).values\n",
    "    X = asArrays[:,:(asArrays.shape[1] - 1)]\n",
    "    y = asArrays[:,(asArrays.shape[1]-1)]\n",
    "    \n",
    "    X = np.hstack((np.ones((X.shape[0],1)),X))\n",
    "    \n",
    "    w = weightCalculator(X,y,0)\n",
    "    \n",
    "    array1DToTXT(w,weightFile)\n",
    "    \n",
    "    xTest = pd.read_csv(testFile,header=None).values\n",
    "    xTest = np.hstack((np.ones((xTest.shape[0],1)),xTest))\n",
    "    \n",
    "    yCalculated = xTest.dot(w)\n",
    "    \n",
    "    array1DToTXT(yCalculated,outputFile)\n",
    "    \n",
    "    \n",
    "    #added ones row\n",
    "    "
   ]
  },
  {
   "cell_type": "code",
   "execution_count": 16,
   "metadata": {
    "pycharm": {
     "is_executing": false,
     "metadata": false,
     "name": "#%%    \n"
    }
   },
   "outputs": [],
   "source": [
    "def weightCalculator(X, y, lamda):\n",
    "    w = np.linalg.pinv((X.T.dot(X)) + lamda*(np.identity((X.shape[1]))))\n",
    "    w = w.dot((X.T.dot(y)))\n",
    "    \n",
    "    return w\n",
    "\n",
    "\n",
    "    "
   ]
  },
  {
   "cell_type": "code",
   "execution_count": 17,
   "metadata": {
    "pycharm": {
     "is_executing": false,
     "metadata": false,
     "name": "#%%\n"
    }
   },
   "outputs": [],
   "source": [
    "def array1DToTXT(arr, txtfile):\n",
    "    np.savetxt(txtfile,arr,delimiter=', ')\n",
    "    # f = open(txtfile)\n",
    "    \n",
    "    \n"
   ]
  },
  {
   "cell_type": "code",
   "execution_count": 18,
   "metadata": {
    "pycharm": {
     "is_executing": false,
     "metadata": false,
     "name": "#%%\n"
    }
   },
   "outputs": [],
   "source": [
    "# part1a(\"train.csv\",\"test_X.csv\",\"outputfile.txt\",\"weightfile.txt\")\n",
    "\n"
   ]
  },
  {
   "cell_type": "code",
   "execution_count": 20,
   "metadata": {
    "pycharm": {
     "is_executing": false,
     "metadata": false,
     "name": "#%%\n"
    }
   },
   "outputs": [],
   "source": [
    "# def part1b(trainFile,testFile,regularization,outputFile,weightFile):\n",
    "    \n",
    "  "
   ]
  },
  {
   "cell_type": "code",
   "execution_count": 30,
   "metadata": {
    "pycharm": {
     "is_executing": false,
     "metadata": false,
     "name": "#%%\n"
    }
   },
   "outputs": [],
   "source": [
    "def errorOfLamda(X,y,lamda,k):\n",
    "    n = X.shape[0]\n",
    "    n = int(n/k)\n",
    "    sumOfErrors = 0\n",
    "    for i in range(k):\n",
    "        trainX = X[0:i*n]\n",
    "        trainX = np.vstack((trainX,X[(i+1)*n:X.shape[0]]))\n",
    "        \n",
    "        testX = X[i*n:(i+1)*n]\n",
    "        \n",
    "        trainY = y[0:i*n]\n",
    "        trainY = np.concatenate((trainY,y[(i+1)*n:y.shape[0]]))\n",
    "        \n",
    "        testY = y[i*n:(i+1)*n]\n",
    "        \n",
    "        w = weightCalculator(trainX,trainY,lamda)\n",
    "        \n",
    "        error = np.sum((testX.dot(w) - testY)**2)\n",
    "        error /= np.sum((testY)**2)\n",
    "        sumOfErrors += error\n",
    "    return sumOfErrors/k\n"
   ]
  },
  {
   "cell_type": "code",
   "execution_count": 34,
   "metadata": {
    "pycharm": {
     "is_executing": false,
     "metadata": false,
     "name": "#%%\n"
    }
   },
   "outputs": [],
   "source": [
    "def findingBestLamda(X,y,valuesOfLamda,kFold):\n",
    "    bestError = errorOfLamda(X,y,valuesOfLamda[0],kFold)\n",
    "    bestLamda = valuesOfLamda[0]\n",
    "    for i in valuesOfLamda:\n",
    "        if i==valuesOfLamda[0]:\n",
    "            continue\n",
    "        tempError = errorOfLamda(X,y,i,kFold)\n",
    "        if tempError<bestError:\n",
    "            bestError=tempError\n",
    "            bestLamda=i\n",
    "    return bestLamda\n"
   ]
  },
  {
   "cell_type": "code",
   "execution_count": 51,
   "metadata": {
    "pycharm": {
     "is_executing": false,
     "metadata": false,
     "name": "#%%\n"
    }
   },
   "outputs": [],
   "source": [
    "def part1b(trainFile,testFile,regularizationFile, outputFile,weightFile):\n",
    "    \n",
    "    asArrays = pd.read_csv(trainFile,header=None).values\n",
    "    X = asArrays[:,:(asArrays.shape[1] - 1)]\n",
    "    y = asArrays[:,(asArrays.shape[1]-1)]\n",
    "    \n",
    "    X = np.hstack((np.ones((X.shape[0],1)),X))\n",
    "    \n",
    "    valuesOfLamda = np.loadtxt(regularizationFile)\n",
    "    \n",
    "    lamda = findingBestLamda(X,y,valuesOfLamda,10)\n",
    "    \n",
    "    w = weightCalculator(X,y,lamda)\n",
    "    \n",
    "    array1DToTXT(w,weightFile)\n",
    "    \n",
    "    xTest = pd.read_csv(testFile,header=None).values\n",
    "    xTest = np.hstack((np.ones((xTest.shape[0],1)),xTest))\n",
    "    \n",
    "    yCalculated = xTest.dot(w)\n",
    "    \n",
    "    array1DToTXT(yCalculated,outputFile)\n",
    "    \n",
    "    print(lamda)\n",
    "    "
   ]
  },
  {
   "cell_type": "code",
   "execution_count": 50,
   "metadata": {
    "pycharm": {
     "is_executing": false,
     "metadata": false,
     "name": "#%%\n"
    }
   },
   "outputs": [
    {
     "name": "stdout",
     "output_type": "stream",
     "text": [
      "1000.0\n"
     ]
    }
   ],
   "source": [
    "# part1b(\"train.csv\",\"test_X.csv\",\"sample_regularization.txt\",\"outputfile.txt\",\"weightfile.txt\")\n"
   ]
  },
  {
   "cell_type": "code",
   "execution_count": null,
   "metadata": {
    "pycharm": {
     "is_executing": true,
     "metadata": false,
     "name": "#%%\n"
    }
   },
   "outputs": [],
   "source": [
    "\n",
    "\n"
   ]
  },
  {
   "cell_type": "code",
   "execution_count": null,
   "metadata": {
    "pycharm": {
     "metadata": false,
     "name": "#%%\n"
    }
   },
   "outputs": [],
   "source": [
    "\n"
   ]
  }
 ],
 "metadata": {
  "kernelspec": {
   "display_name": "Python 3",
   "language": "python",
   "name": "python3"
  },
  "language_info": {
   "codemirror_mode": {
    "name": "ipython",
    "version": 3
   },
   "file_extension": ".py",
   "mimetype": "text/x-python",
   "name": "python",
   "nbconvert_exporter": "python",
   "pygments_lexer": "ipython3",
   "version": "3.5.6"
  }
 },
 "nbformat": 4,
 "nbformat_minor": 1
}
