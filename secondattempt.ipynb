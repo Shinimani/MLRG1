{
  "cells": [
    {
      "cell_type": "code",
      "execution_count": 6,
      "metadata": {
        "collapsed": true,
        "pycharm": {
          "is_executing": false
        }
      },
      "outputs": [],
      "source": "import numpy as np\nimport pandas as pd\nfrom matplotlib import pyplot as plt\n\n    # data \u003d pd.read_csv(\"train.csv\",header\u003dNone)\n\n\n\n"
    },
    {
      "cell_type": "code",
      "execution_count": 15,
      "outputs": [],
      "source": "def part1a(trainFile,testFile,outputFile,weightFile):\n    \n    asArrays \u003d pd.read_csv(trainFile,header\u003dNone).values\n    X \u003d asArrays[:,:(asArrays.shape[1] - 1)]\n    y \u003d asArrays[:,(asArrays.shape[1]-1)]\n    \n    X \u003d np.hstack((np.ones((X.shape[0],1)),X))\n    \n    w \u003d weightCalculator(X,y,0)\n    \n    array1DToTXT(w,weightFile)\n    \n    xTest \u003d pd.read_csv(testFile,header\u003dNone).values\n    xTest \u003d np.hstack((np.ones((xTest.shape[0],1)),xTest))\n    \n    yCalculated \u003d xTest.dot(w)\n    \n    array1DToTXT(yCalculated,outputFile)\n    \n    \n    #added ones row\n    ",
      "metadata": {
        "pycharm": {
          "metadata": false,
          "name": "#%%\n",
          "is_executing": false
        }
      }
    },
    {
      "cell_type": "code",
      "execution_count": 16,
      "outputs": [],
      "source": "def weightCalculator(X, y, lamda):\n    w \u003d np.linalg.pinv((X.T.dot(X)) + lamda*(np.identity((X.shape[1]))))\n    w \u003d w.dot((X.T.dot(y)))\n    \n    return w\n\n\n    ",
      "metadata": {
        "pycharm": {
          "metadata": false,
          "name": "#%%    \n",
          "is_executing": false
        }
      }
    },
    {
      "cell_type": "code",
      "execution_count": 17,
      "outputs": [],
      "source": "def array1DToTXT(arr, txtfile):\n    np.savetxt(txtfile,arr,delimiter\u003d\u0027, \u0027)\n    # f \u003d open(txtfile)\n    \n    \n",
      "metadata": {
        "pycharm": {
          "metadata": false,
          "name": "#%%\n",
          "is_executing": false
        }
      }
    },
    {
      "cell_type": "code",
      "execution_count": 18,
      "outputs": [],
      "source": "# part1a(\"train.csv\",\"test_X.csv\",\"outputfile.txt\",\"weightfile.txt\")\n\n",
      "metadata": {
        "pycharm": {
          "metadata": false,
          "name": "#%%\n",
          "is_executing": false
        }
      }
    },
    {
      "cell_type": "code",
      "execution_count": 20,
      "outputs": [],
      "source": "# def part1b(trainFile,testFile,regularization,outputFile,weightFile):\n    \n  ",
      "metadata": {
        "pycharm": {
          "metadata": false,
          "name": "#%%\n",
          "is_executing": false
        }
      }
    },
    {
      "cell_type": "code",
      "execution_count": 30,
      "outputs": [],
      "source": "def errorOfLamda(X,y,lamda,k):\n    n \u003d X.shape[0]\n    n \u003d int(n/k)\n    sumOfErrors \u003d 0\n    for i in range(k):\n        trainX \u003d X[0:i*n]\n        trainX \u003d np.vstack((trainX,X[(i+1)*n:X.shape[0]]))\n        \n        testX \u003d X[i*n:(i+1)*n]\n        \n        trainY \u003d y[0:i*n]\n        trainY \u003d np.concatenate((trainY,y[(i+1)*n:y.shape[0]]))\n        \n        testY \u003d y[i*n:(i+1)*n]\n        \n        w \u003d weightCalculator(trainX,trainY,lamda)\n        \n        error \u003d np.sum((testX.dot(w) - testY)**2)\n        error /\u003d np.sum((testY)**2)\n        sumOfErrors +\u003d error\n    return sumOfErrors/k\n",
      "metadata": {
        "pycharm": {
          "metadata": false,
          "name": "#%%\n",
          "is_executing": false
        }
      }
    },
    {
      "cell_type": "code",
      "execution_count": 34,
      "outputs": [],
      "source": "def findingBestLamda(X,y,valuesOfLamda,kFold):\n    bestError \u003d errorOfLamda(X,y,valuesOfLamda[0],kFold)\n    bestLamda \u003d valuesOfLamda[0]\n    for i in valuesOfLamda:\n        if i\u003d\u003dvaluesOfLamda[0]:\n            continue\n        tempError \u003d errorOfLamda(X,y,i,kFold)\n        if tempError\u003cbestError:\n            bestError\u003dtempError\n            bestLamda\u003di\n    return bestLamda\n",
      "metadata": {
        "pycharm": {
          "metadata": false,
          "name": "#%%\n",
          "is_executing": false
        }
      }
    },
    {
      "cell_type": "code",
      "execution_count": 51,
      "outputs": [],
      "source": "def part1b(trainFile,testFile,regularizationFile, outputFile,weightFile):\n    \n    asArrays \u003d pd.read_csv(trainFile,header\u003dNone).values\n    X \u003d asArrays[:,:(asArrays.shape[1] - 1)]\n    y \u003d asArrays[:,(asArrays.shape[1]-1)]\n    \n    X \u003d np.hstack((np.ones((X.shape[0],1)),X))\n    \n    valuesOfLamda \u003d np.loadtxt(regularizationFile)\n    \n    lamda \u003d findingBestLamda(X,y,valuesOfLamda,10)\n    \n    w \u003d weightCalculator(X,y,lamda)\n    \n    array1DToTXT(w,weightFile)\n    \n    xTest \u003d pd.read_csv(testFile,header\u003dNone).values\n    xTest \u003d np.hstack((np.ones((xTest.shape[0],1)),xTest))\n    \n    yCalculated \u003d xTest.dot(w)\n    \n    array1DToTXT(yCalculated,outputFile)\n    \n    print(lamda)\n    ",
      "metadata": {
        "pycharm": {
          "metadata": false,
          "name": "#%%\n",
          "is_executing": false
        }
      }
    },
    {
      "cell_type": "code",
      "execution_count": 50,
      "outputs": [
        {
          "name": "stdout",
          "text": [
            "1000.0\n"
          ],
          "output_type": "stream"
        }
      ],
      "source": "# part1b(\"train.csv\",\"test_X.csv\",\"sample_regularization.txt\",\"outputfile.txt\",\"weightfile.txt\")\n",
      "metadata": {
        "pycharm": {
          "metadata": false,
          "name": "#%%\n",
          "is_executing": false
        }
      }
    },
    {
      "cell_type": "code",
      "execution_count": null,
      "outputs": [],
      "source": "\n\n",
      "metadata": {
        "pycharm": {
          "metadata": false,
          "name": "#%%\n",
          "is_executing": true
        }
      }
    },
    {
      "cell_type": "code",
      "execution_count": null,
      "outputs": [],
      "source": "\n",
      "metadata": {
        "pycharm": {
          "metadata": false,
          "name": "#%%\n"
        }
      }
    }
  ],
  "metadata": {
    "language_info": {
      "codemirror_mode": {
        "name": "ipython",
        "version": 2
      },
      "file_extension": ".py",
      "mimetype": "text/x-python",
      "name": "python",
      "nbconvert_exporter": "python",
      "pygments_lexer": "ipython2",
      "version": "2.7.6"
    },
    "kernelspec": {
      "name": "python3",
      "language": "python",
      "display_name": "Python 3"
    }
  },
  "nbformat": 4,
  "nbformat_minor": 0
}